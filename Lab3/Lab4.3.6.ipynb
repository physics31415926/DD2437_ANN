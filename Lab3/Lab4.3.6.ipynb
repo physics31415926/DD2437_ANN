{
 "cells": [
  {
   "cell_type": "code",
   "execution_count": 66,
   "metadata": {},
   "outputs": [],
   "source": [
    "import numpy as np\n",
    "import operator as op\n",
    "import random as rd\n",
    "import matplotlib.pyplot as plt\n",
    "\n",
    "\n",
    "def weight(x, rou):\n",
    "    w = np.zeros((dim, dim))\n",
    "    for i in range(dim):\n",
    "        for j in range(dim):\n",
    "            for n in range(inputs):\n",
    "                w[i][j] = w[i][j]+ (x[n][i]-rou)*(x[n][j]-rou)\n",
    "    return w\n",
    "\n",
    "\n",
    "def sign(x):\n",
    "    for m in range(len(x)):\n",
    "        if x[m] >= 0:\n",
    "            x[m] = 1\n",
    "        else:\n",
    "            x[m] = -1\n",
    "    return x\n",
    "\n",
    "\n",
    "def learning(x_test, w, theta):\n",
    "    count = 0\n",
    "    temp = list(x_test)\n",
    "    while 1:\n",
    "        count = count + 1\n",
    "        x_test = np.matmul(w, x_test)\n",
    "        x_test = 0.5 + 0.5*sign(x_test - theta)\n",
    "        x_test = list(x_test)\n",
    "        if count == 10:\n",
    "            break\n",
    "    return x_test\n",
    "\n",
    "\n",
    "def rand_int():\n",
    "    a = rd.sample(range(0, dim), int(dim*rou))\n",
    "    x = np.zeros(dim)\n",
    "    for o in range(int(dim*rou)):\n",
    "        x[a[o]] = 1\n",
    "    return x\n",
    "\n",
    "\n",
    "dim = 100\n",
    "inputs = 150\n",
    "# x = np.zeros((inputs, dim))\n",
    "# for i in range(inputs):\n",
    "#     x[i] = rand_int()"
   ]
  },
  {
   "cell_type": "code",
   "execution_count": 67,
   "metadata": {},
   "outputs": [
    {
     "data": {
      "image/png": "[encoded data removed]",
      "text/plain": [
       "<Figure size 432x288 with 1 Axes>"
      ]
     },
     "metadata": {
      "needs_background": "light"
     },
     "output_type": "display_data"
    }
   ],
   "source": [
    "rou = 0.1\n",
    "x = np.zeros((inputs, dim))\n",
    "for i in range(inputs):\n",
    "    x[i] = rand_int()\n",
    "w = weight(x, rou)\n",
    "rate = np.zeros(100)\n",
    "theta = np.zeros(100)\n",
    "for t in range(0, 100):\n",
    "    theta[t] = t / 5\n",
    "    attractors = []\n",
    "    for j in range(len(x)):\n",
    "        x_test = learning(x[j], w, theta[t])\n",
    "        if x_test == list(x[j]):\n",
    "            attractors.append(x_test)\n",
    "    rate[t] = len(attractors)/inputs\n",
    "plt.plot(theta, rate, color='red', label='rho=0.1')\n",
    "\n",
    "# rou = 0.05\n",
    "# x = np.zeros((inputs, dim))\n",
    "# for i in range(inputs):\n",
    "#     x[i] = rand_int()\n",
    "# w = weight(x, rou)\n",
    "# rate = np.zeros(100)\n",
    "# theta = np.zeros(100)\n",
    "# for t in range(0, 100):\n",
    "#     theta[t] = t / 5\n",
    "#     attractors = []\n",
    "#     for j in range(len(x)):\n",
    "#         x_test = learning(x[j], w, theta[t])\n",
    "#         if x_test == list(x[j]):\n",
    "#             attractors.append(x_test)\n",
    "#     rate[t] = len(attractors)/inputs\n",
    "# plt.plot(theta, rate, color='blue', label='rho=0.05')\n",
    "\n",
    "# rou = 0.03\n",
    "# x = np.zeros((inputs, dim))\n",
    "# for i in range(inputs):\n",
    "#     x[i] = rand_int()\n",
    "# w = weight(x, rou)\n",
    "# rate = np.zeros(100)\n",
    "# theta = np.zeros(100)\n",
    "# for t in range(0, 100):\n",
    "#     theta[t] = t / 5\n",
    "#     attractors = []\n",
    "#     for j in range(len(x)):\n",
    "#         x_test = learning(x[j], w, theta[t])\n",
    "#         if x_test == list(x[j]):\n",
    "#             attractors.append(x_test)\n",
    "#     rate[t] = len(attractors)/inputs\n",
    "# plt.plot(theta, rate, color='green', label='rho=0.03')\n",
    "\n",
    "plt.xlabel('Theta')\n",
    "plt.ylabel('Percentage of stored patterns')\n",
    "plt.legend()\n",
    "plt.title('The percentage of stored patterns for different values of theta')\n",
    "plt.show()"
   ]
  },
  {
   "cell_type": "code",
   "execution_count": null,
   "metadata": {},
   "outputs": [],
   "source": []
  }
 ],
 "metadata": {
  "kernelspec": {
   "display_name": "Python 3",
   "language": "python",
   "name": "python3"
  },
  "language_info": {
   "codemirror_mode": {
    "name": "ipython",
    "version": 3
   },
   "file_extension": ".py",
   "mimetype": "text/x-python",
   "name": "python",
   "nbconvert_exporter": "python",
   "pygments_lexer": "ipython3",
   "version": "3.7.3"
  }
 },
 "nbformat": 4,
 "nbformat_minor": 2
}
