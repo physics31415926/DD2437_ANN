{
 "cells": [
  {
   "cell_type": "code",
   "execution_count": 20,
   "metadata": {},
   "outputs": [],
   "source": [
    "import numpy as np\n",
    "import operator as op\n",
    "\n",
    "\n",
    "def sign(x):\n",
    "    for m in range(len(x)):\n",
    "        if x[m] >= 0:\n",
    "            x[m] = 1\n",
    "        else:\n",
    "            x[m] = -1\n",
    "    return x\n",
    "\n",
    "\n",
    "def learning(x_test, w):\n",
    "    count = 0\n",
    "    while 1:\n",
    "        count = count + 1\n",
    "        temp = x_test\n",
    "        x_test = np.matmul(w, x_test)\n",
    "        x_test = sign(x_test)\n",
    "        x_test = list(x_test)\n",
    "        if op.eq(temp, x_test):\n",
    "            break\n",
    "    return x_test\n",
    "\n",
    "\n",
    "def enum():\n",
    "    s = []\n",
    "    for s1 in [1, -1]:\n",
    "        for s2 in [1, -1]:\n",
    "            for s3 in [1, -1]:\n",
    "                for s4 in [1, -1]:\n",
    "                    for s5 in [1, -1]:\n",
    "                        for s6 in [1, -1]:\n",
    "                            for s7 in [1, -1]:\n",
    "                                for s8 in [1, -1]:\n",
    "                                    s.append([s1, s2, s3, s4, s5, s6, s7, s8])\n",
    "    return s\n",
    "\n",
    "\n",
    "def weight(x_1, x_2, x_3):\n",
    "    w = np.zeros((8, 8))\n",
    "    for i in range(8):\n",
    "        for j in range(8):\n",
    "            w[i][j] = x_1[i]*x_1[j] + x_2[i]*x_2[j] + x_3[i]*x_3[j]\n",
    "            # if i == j:\n",
    "            #     w[i][j] = 0;\n",
    "    return w\n",
    "\n",
    "\n",
    "x1 = [-1, -1, 1, -1, 1, -1, -1, 1]\n",
    "x2 = [-1, -1, -1, -1, -1, 1, -1, -1]\n",
    "x3 = [-1, 1, 1, -1, -1, 1, -1, 1]\n",
    "x_test1 = [1, -1, 1, -1, 1, -1, -1, 1]\n",
    "x_test2 = [1, 1, -1, -1, -1, 1, -1, -1]\n",
    "x_test3 = [1, 1, 1, -1, 1, 1, -1, 1]\n",
    "w = weight(x1, x2, x3)\n",
    "\n",
    "x_test1_out = learning(x_test1, w)\n",
    "x_test2_out = learning(x_test2, w)\n",
    "x_test3_out = learning(x_test3, w)\n",
    "\n",
    "all_list = enum()\n",
    "attractors = []\n",
    "for p in range(256):\n",
    "    x = all_list[p]\n",
    "    x = learning(x, w)\n",
    "    if x not in attractors:\n",
    "        attractors.append(x)"
   ]
  },
  {
   "cell_type": "code",
   "execution_count": 19,
   "metadata": {},
   "outputs": [
    {
     "name": "stdout",
     "output_type": "stream",
     "text": [
      "<map object at 0x000002536ECE42E8>\n",
      "[-1.0, 1.0, -1.0, -1.0, -1.0, 1.0, -1.0, -1.0]\n",
      "[-1.0, 1.0, 1.0, -1.0, -1.0, 1.0, -1.0, 1.0]\n"
     ]
    }
   ],
   "source": [
    "print(x_test1_out)\n",
    "print(x_test2_out)\n",
    "print(x_test3_out)"
   ]
  },
  {
   "cell_type": "code",
   "execution_count": 21,
   "metadata": {},
   "outputs": [
    {
     "name": "stdout",
     "output_type": "stream",
     "text": [
      "[1.0, 1.0, 1.0, 1.0, 1.0, -1.0, 1.0, 1.0]\n",
      "[1.0, 1.0, -1.0, 1.0, 1.0, -1.0, 1.0, -1.0]\n",
      "[1.0, 1.0, 1.0, 1.0, -1.0, 1.0, 1.0, 1.0]\n",
      "[1.0, 1.0, -1.0, 1.0, -1.0, 1.0, 1.0, -1.0]\n",
      "[-1.0, 1.0, 1.0, -1.0, -1.0, 1.0, -1.0, 1.0]\n",
      "[-1.0, 1.0, 1.0, -1.0, 1.0, -1.0, -1.0, 1.0]\n",
      "[1.0, 1.0, -1.0, 1.0, 1.0, 1.0, 1.0, -1.0]\n",
      "[1.0, -1.0, -1.0, 1.0, 1.0, -1.0, 1.0, -1.0]\n",
      "[-1.0, 1.0, -1.0, -1.0, -1.0, 1.0, -1.0, -1.0]\n",
      "[-1.0, -1.0, 1.0, -1.0, 1.0, -1.0, -1.0, 1.0]\n",
      "[-1.0, -1.0, 1.0, -1.0, 1.0, 1.0, -1.0, 1.0]\n",
      "[-1.0, -1.0, -1.0, -1.0, -1.0, 1.0, -1.0, -1.0]\n",
      "[-1.0, -1.0, 1.0, -1.0, -1.0, 1.0, -1.0, 1.0]\n",
      "[-1.0, -1.0, -1.0, -1.0, 1.0, -1.0, -1.0, -1.0]\n"
     ]
    }
   ],
   "source": [
    "for i in attractors:\n",
    "    print(i)"
   ]
  }
 ],
 "metadata": {
  "kernelspec": {
   "display_name": "Python 3",
   "language": "python",
   "name": "python3"
  },
  "language_info": {
   "codemirror_mode": {
    "name": "ipython",
    "version": 3
   },
   "file_extension": ".py",
   "mimetype": "text/x-python",
   "name": "python",
   "nbconvert_exporter": "python",
   "pygments_lexer": "ipython3",
   "version": "3.7.3"
  }
 },
 "nbformat": 4,
 "nbformat_minor": 2
}
