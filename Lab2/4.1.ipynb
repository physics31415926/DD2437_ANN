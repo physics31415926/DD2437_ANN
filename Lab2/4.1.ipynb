{
 "nbformat": 4,
 "nbformat_minor": 2,
 "metadata": {
  "language_info": {
   "name": "python",
   "codemirror_mode": {
    "name": "ipython",
    "version": 3
   },
   "version": "3.6.7-candidate"
  },
  "orig_nbformat": 2,
  "file_extension": ".py",
  "mimetype": "text/x-python",
  "name": "python",
  "npconvert_exporter": "python",
  "pygments_lexer": "ipython3",
  "version": 3,
  "kernelspec": {
   "name": "python36764bit398bcfbe1bb14699b123d7f38580cbe2",
   "display_name": "Python 3.6.7 64-bit"
  }
 },
 "cells": [
  {
   "cell_type": "code",
   "execution_count": 86,
   "metadata": {},
   "outputs": [],
   "source": [
    "import numpy as np\n",
    "import matplotlib.pyplot as plt\n",
    "import matplotlib.lines as mlines\n",
    "from tqdm import trange\n",
    "\n",
    "inputs = np.loadtxt('data_lab2/animals.dat', delimiter= ',' , dtype=int,comments='%')\n",
    "inputs = inputs.reshape(32, 84)\n",
    "animals = np.loadtxt('data_lab2/animalnames.txt', dtype=str)"
   ]
  },
  {
   "cell_type": "code",
   "execution_count": 81,
   "metadata": {},
   "outputs": [],
   "source": [
    "class SOM:\n",
    "    def __init__(self,inputs,num_nodes):\n",
    "        self.inputs=inputs\n",
    "        self.num_nodes=num_nodes\n",
    "        self.W = np.random.rand(num_nodes,inputs.shape[1])\n",
    "       # print(self.W)\n",
    "\n",
    "    def GetClosetOne(self,x):\n",
    "        dist =(x-self.W)\n",
    "        # print(\"___________________________\")\n",
    "        # print(\"\\nx:\\n\",x,\"\\nW:\\n\",self.W,\"\\ndist:\\n\",dist,\"\\ndist*dist:\\n\",np.multiply(dist,dist),\"\\nsum:\\n\",np.sum(np.multiply(dist,dist),axis=1),'\\nnode:',np.argmin(np.sum(np.multiply(dist,dist),axis=0)))\n",
    "        # print(\"___________________________\")\n",
    "        return np.argmin(np.sum(np.multiply(dist,dist),axis=1))\n",
    "\n",
    "    def UpdateWeights(self,x,Np,radius,lr):\n",
    "        l = int(Np-radius) if Np-radius>0 else 0\n",
    "        r = int(Np+radius) if Np+radius<self.num_nodes else self.num_nodes\n",
    "        for i in range(l,r):\n",
    "            self.W[i]+=lr*(x-self.W[i])\n",
    "\n",
    "\n",
    "    def train(self,epochs=20,lr=0.2,C=50):\n",
    "        x = self.inputs\n",
    "        animal_result = np.zeros(x.shape[0])\n",
    "        for epoch in trange(epochs):\n",
    "            radius =np.round(C*(1-epoch/epochs))\n",
    "            for i,animal in enumerate(x):\n",
    "                Np = self.GetClosetOne(animal)\n",
    "                self.UpdateWeights(animal,Np,radius,lr)\n",
    "        for i,x in enumerate(X):                \n",
    "            Np = self.GetClosetOne(animal)\n",
    "            animal_result[i]=Np\n",
    "        return animal_result\n",
    "        "
   ]
  },
  {
   "cell_type": "code",
   "execution_count": 85,
   "metadata": {},
   "outputs": [
    {
     "name": "stderr",
     "output_type": "stream",
     "text": "100%|██████████| 20/20 [00:00<00:00, 90.32it/s]\n[\"'grasshopper'\" \"'beetle'\" \"'dragonfly'\" \"'butterfly'\" \"'moskito'\"\n \"'housefly'\" \"'spider'\" \"'pelican'\" \"'duck'\" \"'ostrich'\" \"'penguin'\"\n \"'frog'\" \"'seaturtle'\" \"'crocodile'\" \"'walrus'\" \"'bear'\" \"'hyena'\"\n \"'dog'\" \"'ape'\" \"'lion'\" \"'cat'\" \"'skunk'\" \"'bat'\" \"'rat'\" \"'elephant'\"\n \"'rabbit'\" \"'kangaroo'\" \"'antelop'\" \"'horse'\" \"'giraffe'\" \"'pig'\"\n \"'camel'\"]\n"
    }
   ],
   "source": [
    "x = np.arange(9).reshape((3,3))\n",
    "\n",
    "test = SOM(inputs,100)\n",
    "pos=test.train()\n",
    "print(animals[np.argsort(pos)])\n",
    "\n"
   ]
  }
 ]
}