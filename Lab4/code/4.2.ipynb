{
 "cells": [
  {
   "cell_type": "code",
   "execution_count": 1,
   "metadata": {
    "pycharm": {
     "is_executing": false
    }
   },
   "outputs": [],
   "source": [
    "from util import *\n",
    "from rbm import RestrictedBoltzmannMachine \n",
    "from dbn import DeepBeliefNet\n",
    "import matplotlib.pyplot as plt"
   ]
  },
  {
   "cell_type": "code",
   "execution_count": 2,
   "metadata": {
    "pycharm": {
     "is_executing": false
    }
   },
   "outputs": [],
   "source": [
    "image_size = [28,28]\n",
    "train_imgs,train_lbls,test_imgs,test_lbls = read_mnist(dim=image_size, n_train=60000, n_test=10000)\n",
    "''' \n",
    "    network          : [top] <---> [pen] ---> [hid] ---> [vis] \n",
    "                               `-> [lbl] \n",
    "    lbl : label\n",
    "    top : top\n",
    "    pen : penultimate\n",
    "    hid : hidden\n",
    "    vis : visible\n",
    "'''\n",
    "\"\"\"\n",
    "Args:\n",
    "  sizes: Dictionary of layer names and dimensions\n",
    "  image_size: Image dimension of data\n",
    "  n_labels: Number of label categories\n",
    "  batch_size: Size of mini-batch\n",
    "\"\"\"\n",
    "lbl=10\n",
    "top=2000\n",
    "pen=500\n",
    "hid=500\n",
    "vis=28*28\n",
    "sizes={\"lbl\":lbl,\"top\":top,\"pen\":pen,\"hid\":hid,\"vis\":vis}\n",
    "batch_size = 10\n",
    "n_labels = lbl"
   ]
  },
  {
   "cell_type": "code",
   "execution_count": 3,
   "metadata": {
    "pycharm": {
     "is_executing": false
    }
   },
   "outputs": [],
   "source": [
    "#crete a DBN\n",
    "\n",
    "dbn = DeepBeliefNet(sizes=sizes,image_size=image_size,n_labels=n_labels,batch_size=batch_size)\n"
   ]
  },
  {
   "cell_type": "code",
   "execution_count": 4,
   "metadata": {
    "pycharm": {
     "is_executing": false
    }
   },
   "outputs": [
    {
     "name": "stdout",
     "output_type": "stream",
     "text": [
      "training vis--hid\n",
      "learning CD1\n",
      "iteration=      0 recon_loss=42.3601\n",
      "iteration=      1 recon_loss=36.4170\n",
      "iteration=      2 recon_loss=33.9771\n",
      "iteration=      3 recon_loss=32.7026\n",
      "iteration=      4 recon_loss=32.0468\n",
      "iteration=      5 recon_loss=31.4834\n",
      "iteration=      6 recon_loss=31.1567\n",
      "iteration=      7 recon_loss=30.9377\n",
      "iteration=      8 recon_loss=30.8481\n",
      "iteration=      9 recon_loss=30.6131\n",
      "iteration=     10 recon_loss=30.4346\n",
      "iteration=     11 recon_loss=30.3441\n",
      "iteration=     12 recon_loss=30.3311\n",
      "iteration=     13 recon_loss=30.2067\n",
      "iteration=     14 recon_loss=30.2025\n",
      "iteration=     15 recon_loss=30.1545\n",
      "iteration=     16 recon_loss=30.0878\n",
      "iteration=     17 recon_loss=29.9870\n",
      "iteration=     18 recon_loss=30.0566\n",
      "iteration=     19 recon_loss=30.0962\n",
      "iteration=     20 recon_loss=30.0769\n",
      "iteration=     21 recon_loss=29.9802\n",
      "iteration=     22 recon_loss=30.0681\n",
      "iteration=     23 recon_loss=29.9403\n",
      "iteration=     24 recon_loss=30.0371\n",
      "iteration=     25 recon_loss=29.9737\n",
      "iteration=     26 recon_loss=29.9772\n",
      "iteration=     27 recon_loss=29.9155\n",
      "iteration=     28 recon_loss=29.8841\n",
      "iteration=     29 recon_loss=29.8713\n",
      "training hid--pen\n",
      "learning CD1\n",
      "iteration=      0 recon_loss=28.0842\n",
      "iteration=      1 recon_loss=22.4045\n",
      "iteration=      2 recon_loss=19.7304\n",
      "iteration=      3 recon_loss=17.9596\n",
      "iteration=      4 recon_loss=16.8624\n",
      "iteration=      5 recon_loss=15.8930\n",
      "iteration=      6 recon_loss=15.2895\n",
      "iteration=      7 recon_loss=14.6472\n",
      "iteration=      8 recon_loss=14.2672\n",
      "iteration=      9 recon_loss=13.8447\n",
      "iteration=     10 recon_loss=13.5918\n",
      "iteration=     11 recon_loss=13.1866\n",
      "iteration=     12 recon_loss=12.8414\n",
      "iteration=     13 recon_loss=12.7419\n",
      "iteration=     14 recon_loss=12.5384\n",
      "iteration=     15 recon_loss=12.2858\n",
      "iteration=     16 recon_loss=12.1434\n",
      "iteration=     17 recon_loss=11.9305\n",
      "iteration=     18 recon_loss=11.8424\n",
      "iteration=     19 recon_loss=11.6654\n",
      "iteration=     20 recon_loss=11.5155\n",
      "iteration=     21 recon_loss=11.4003\n",
      "iteration=     22 recon_loss=11.2230\n",
      "iteration=     23 recon_loss=11.1666\n",
      "iteration=     24 recon_loss=11.0327\n",
      "iteration=     25 recon_loss=10.9815\n",
      "iteration=     26 recon_loss=10.8727\n",
      "iteration=     27 recon_loss=10.7576\n",
      "iteration=     28 recon_loss=10.6734\n",
      "iteration=     29 recon_loss=10.5934\n",
      "training pen+lbl--top\n",
      "learning CD1\n",
      "iteration=      0 recon_loss=41.6666\n",
      "iteration=      1 recon_loss=35.4332\n",
      "iteration=      2 recon_loss=32.9130\n",
      "iteration=      3 recon_loss=31.0297\n",
      "iteration=      4 recon_loss=29.4597\n",
      "iteration=      5 recon_loss=28.9098\n",
      "iteration=      6 recon_loss=28.2034\n",
      "iteration=      7 recon_loss=27.8589\n",
      "iteration=      8 recon_loss=27.0224\n",
      "iteration=      9 recon_loss=26.7975\n",
      "iteration=     10 recon_loss=26.2856\n",
      "iteration=     11 recon_loss=25.9917\n",
      "iteration=     12 recon_loss=25.6530\n",
      "iteration=     13 recon_loss=25.3951\n",
      "iteration=     14 recon_loss=25.1714\n",
      "iteration=     15 recon_loss=24.9125\n",
      "iteration=     16 recon_loss=24.6324\n",
      "iteration=     17 recon_loss=24.4189\n",
      "iteration=     18 recon_loss=24.2624\n",
      "iteration=     19 recon_loss=24.0954\n",
      "iteration=     20 recon_loss=23.7935\n",
      "iteration=     21 recon_loss=23.7827\n",
      "iteration=     22 recon_loss=23.6498\n",
      "iteration=     23 recon_loss=23.4129\n",
      "iteration=     24 recon_loss=23.1573\n",
      "iteration=     25 recon_loss=23.1755\n",
      "iteration=     26 recon_loss=22.9627\n",
      "iteration=     27 recon_loss=22.7722\n",
      "iteration=     28 recon_loss=22.6965\n",
      "iteration=     29 recon_loss=22.5183\n"
     ]
    }
   ],
   "source": [
    "#train the dbn\n",
    "\n",
    "n_iterations = 30\n",
    "dbn.train_greedylayerwise(vis_trainset=train_imgs,lbl_trainset=train_lbls,n_iterations=n_iterations)"
   ]
  },
  {
   "cell_type": "code",
   "execution_count": 5,
   "metadata": {
    "pycharm": {
     "is_executing": false
    }
   },
   "outputs": [
    {
     "data": {
      "image/png": "[encoded data removed]",
      "text/plain": [
       "<Figure size 432x288 with 1 Axes>"
      ]
     },
     "metadata": {
      "needs_background": "light"
     },
     "output_type": "display_data"
    },
    {
     "data": {
      "image/png": "[encoded data removed]",
      "text/plain": [
       "<Figure size 432x288 with 1 Axes>"
      ]
     },
     "metadata": {
      "needs_background": "light"
     },
     "output_type": "display_data"
    }
   ],
   "source": [
    "#show the errors of first two RBMs\n",
    "x=[i+1 for i in range(n_iterations)]\n",
    "plt.ylabel(\"MSE\")\n",
    "plt.xlabel(\"Epoch\")\n",
    "plt.plot(x,dbn.vis_hid_errors)\n",
    "plt.title(\"vis--hid errors\")\n",
    "plt.savefig(\"vis_hid_errors.png\")\n",
    "plt.show()\n",
    "plt.ylabel(\"MSE\")\n",
    "plt.xlabel(\"Epoch\")\n",
    "plt.plot(x,dbn.hid_pen_errors)\n",
    "plt.title(\"hid--pen errors\")\n",
    "plt.savefig(\"hid_pen_errors.png\")\n",
    "plt.show()"
   ]
  },
  {
   "cell_type": "code",
   "execution_count": 6,
   "metadata": {
    "pycharm": {
     "is_executing": false
    }
   },
   "outputs": [
    {
     "name": "stdout",
     "output_type": "stream",
     "text": [
      "drive the network bottom to top\n",
      "vis--hid\n",
      "hid--pen\n",
      "pen+lbl--top\n",
      "pen+lbl--top\n",
      "pen+lbl--top\n",
      "pen+lbl--top\n",
      "pen+lbl--top\n",
      "pen+lbl--top\n",
      "pen+lbl--top\n",
      "pen+lbl--top\n",
      "pen+lbl--top\n",
      "pen+lbl--top\n",
      "pen+lbl--top\n",
      "pen+lbl--top\n",
      "pen+lbl--top\n",
      "pen+lbl--top\n",
      "pen+lbl--top\n",
      "accuracy = 84.85%\n"
     ]
    }
   ],
   "source": [
    "dbn.recognize(test_imgs,test_lbls)"
   ]
  },
  {
   "cell_type": "code",
   "execution_count": 7,
   "metadata": {
    "pycharm": {
     "is_executing": false,
     "name": "#%%\n"
    }
   },
   "outputs": [
    {
     "name": "stdout",
     "output_type": "stream",
     "text": [
      "drive the network bottom to top\n",
      "vis--hid\n",
      "hid--pen\n",
      "pen+lbl--top\n",
      "pen+lbl--top\n",
      "pen+lbl--top\n",
      "pen+lbl--top\n",
      "pen+lbl--top\n",
      "pen+lbl--top\n",
      "pen+lbl--top\n",
      "pen+lbl--top\n",
      "pen+lbl--top\n",
      "pen+lbl--top\n",
      "pen+lbl--top\n",
      "pen+lbl--top\n",
      "pen+lbl--top\n",
      "pen+lbl--top\n",
      "pen+lbl--top\n",
      "accuracy = 84.41%\n"
     ]
    }
   ],
   "source": [
    "dbn.recognize(train_imgs,train_lbls)"
   ]
  },
  {
   "cell_type": "code",
   "execution_count": 8,
   "metadata": {
    "pycharm": {
     "is_executing": false,
     "name": "#%%\n"
    }
   },
   "outputs": [
    {
     "name": "stdout",
     "output_type": "stream",
     "text": [
      "[array([[3.22873863e-07, 1.13449338e-08, 2.97543988e-06, ...,\n",
      "        9.97264117e-01, 4.67892615e-08, 7.50646886e-05],\n",
      "       [3.35116426e-04, 1.67720278e-01, 8.07220332e-01, ...,\n",
      "        9.98849367e-01, 7.10152104e-03, 2.47942946e-01],\n",
      "       [7.88131315e-07, 9.99867690e-01, 3.59221404e-05, ...,\n",
      "        9.99973087e-01, 4.06851132e-04, 2.92891630e-04],\n",
      "       ...,\n",
      "       [1.59025955e-04, 2.68301793e-05, 1.00371477e-05, ...,\n",
      "        9.99271854e-01, 4.89298576e-05, 1.06191217e-01],\n",
      "       [2.49369825e-04, 1.89187327e-05, 2.32243538e-06, ...,\n",
      "        9.99999599e-01, 2.73014468e-06, 9.13943005e-01],\n",
      "       [4.86944717e-04, 4.55265723e-04, 2.35360759e-03, ...,\n",
      "        9.99983008e-01, 7.23211734e-01, 7.60991591e-04]]), array([[1.30789272e-07, 5.39634157e-08, 4.92249499e-05, ...,\n",
      "        9.86070963e-01, 1.27713406e-07, 3.25845789e-05],\n",
      "       [4.39335686e-04, 2.95220461e-01, 2.78773764e-01, ...,\n",
      "        9.99943436e-01, 1.17142241e-01, 2.66562576e-01],\n",
      "       [5.97966409e-07, 9.99701229e-01, 6.81305215e-06, ...,\n",
      "        9.99989545e-01, 1.18836060e-05, 6.34974964e-04],\n",
      "       ...,\n",
      "       [2.22745311e-06, 2.64713555e-06, 6.01585535e-08, ...,\n",
      "        9.78224194e-01, 6.48360527e-07, 3.18389189e-03],\n",
      "       [1.74288469e-04, 7.67151619e-05, 5.96291093e-06, ...,\n",
      "        9.99988574e-01, 1.10008570e-05, 2.47595186e-01],\n",
      "       [2.91244192e-05, 6.36982040e-05, 3.77634530e-04, ...,\n",
      "        9.99939972e-01, 6.69130565e-01, 4.58135039e-04]]), array([[5.63733930e-07, 2.09573989e-08, 8.77818592e-06, ...,\n",
      "        9.99495838e-01, 1.50045583e-07, 2.28310870e-05],\n",
      "       [3.09436414e-04, 3.28998680e-02, 8.15253867e-01, ...,\n",
      "        9.99440327e-01, 2.04223631e-02, 8.87694866e-02],\n",
      "       [5.23652431e-06, 9.99761197e-01, 2.95489283e-05, ...,\n",
      "        9.99974866e-01, 6.49481142e-05, 2.19704705e-04],\n",
      "       ...,\n",
      "       [1.47508591e-05, 1.31751256e-05, 1.44739479e-06, ...,\n",
      "        9.77763811e-01, 3.95942503e-06, 6.04315997e-02],\n",
      "       [1.70392285e-04, 5.00425322e-04, 7.71636337e-06, ...,\n",
      "        9.99998824e-01, 4.72500791e-06, 8.50516835e-03],\n",
      "       [1.60322347e-05, 5.17828270e-05, 5.81628529e-04, ...,\n",
      "        9.99934790e-01, 9.14261299e-01, 1.42286483e-03]]), array([[3.86293573e-08, 3.09704084e-09, 2.36462283e-06, ...,\n",
      "        9.99513143e-01, 1.35764611e-07, 1.71036202e-05],\n",
      "       [2.43202745e-04, 6.75491214e-02, 9.08850840e-01, ...,\n",
      "        9.98257449e-01, 1.92926459e-01, 1.60296184e-01],\n",
      "       [8.31336337e-06, 9.94261981e-01, 1.26063001e-05, ...,\n",
      "        9.99996285e-01, 6.89002039e-06, 7.38525114e-05],\n",
      "       ...,\n",
      "       [1.96085387e-04, 9.46571163e-05, 1.73627255e-05, ...,\n",
      "        9.73848153e-01, 6.52428042e-07, 1.25495426e-02],\n",
      "       [3.36258136e-04, 1.18667155e-04, 1.86041439e-05, ...,\n",
      "        9.99980087e-01, 6.49239550e-06, 4.92662347e-01],\n",
      "       [5.79947902e-05, 8.29143550e-06, 2.00048378e-03, ...,\n",
      "        9.99942394e-01, 9.64789353e-01, 2.86147982e-03]]), array([[4.47038542e-08, 9.96069420e-10, 1.29399221e-06, ...,\n",
      "        9.98149178e-01, 3.03254904e-08, 2.23651110e-05],\n",
      "       [3.28240444e-04, 4.43020390e-03, 9.93760191e-01, ...,\n",
      "        9.99988719e-01, 2.09575947e-01, 5.49925491e-02],\n",
      "       [2.74450446e-07, 9.99782808e-01, 3.52801258e-05, ...,\n",
      "        9.99878109e-01, 1.97893336e-06, 2.93621282e-05],\n",
      "       ...,\n",
      "       [2.62991792e-06, 2.22684961e-05, 3.44096366e-06, ...,\n",
      "        9.83119460e-01, 1.23085421e-06, 2.62393324e-02],\n",
      "       [1.18213305e-05, 5.45893622e-05, 2.41754135e-06, ...,\n",
      "        9.99980261e-01, 3.17660991e-06, 7.55894529e-01],\n",
      "       [1.97821676e-05, 2.06523014e-05, 6.22656960e-04, ...,\n",
      "        9.99978593e-01, 9.62652742e-01, 2.44416195e-03]]), array([[3.64655588e-09, 7.67195902e-09, 8.72979911e-07, ...,\n",
      "        9.99257684e-01, 2.56797243e-07, 5.94701772e-07],\n",
      "       [3.33122778e-04, 3.91891504e-03, 9.92229031e-01, ...,\n",
      "        9.99712804e-01, 3.78837882e-01, 3.03969113e-02],\n",
      "       [3.52093278e-07, 9.99897182e-01, 2.25533004e-05, ...,\n",
      "        9.99916153e-01, 3.37080269e-05, 1.14763541e-03],\n",
      "       ...,\n",
      "       [4.45174291e-04, 4.66188920e-04, 4.74867210e-05, ...,\n",
      "        9.96418023e-01, 1.39228277e-06, 5.23690587e-02],\n",
      "       [4.30590839e-05, 6.12767093e-05, 2.97561949e-06, ...,\n",
      "        9.99995893e-01, 6.24956985e-06, 1.67562534e-02],\n",
      "       [4.41989279e-06, 1.21816168e-05, 4.25875628e-05, ...,\n",
      "        9.99985539e-01, 9.92645575e-01, 2.85755982e-03]]), array([[1.31091402e-08, 9.42605113e-09, 7.37111645e-07, ...,\n",
      "        9.71540607e-01, 6.21365182e-08, 1.22779883e-05],\n",
      "       [5.44147754e-02, 4.41155788e-02, 3.50946422e-01, ...,\n",
      "        9.99959855e-01, 6.89227709e-01, 7.71268009e-01],\n",
      "       [5.56375202e-07, 9.99881113e-01, 5.20520718e-05, ...,\n",
      "        9.99729661e-01, 3.68476684e-05, 4.33322054e-03],\n",
      "       ...,\n",
      "       [4.73586553e-04, 4.64435693e-03, 4.07219397e-04, ...,\n",
      "        9.99122547e-01, 6.75898730e-06, 1.71048955e-01],\n",
      "       [5.03167686e-05, 3.28119034e-03, 4.95394079e-05, ...,\n",
      "        9.99992006e-01, 2.11579112e-05, 7.97631970e-03],\n",
      "       [8.93059250e-06, 5.04569419e-06, 2.16583711e-05, ...,\n",
      "        9.99928395e-01, 9.17086239e-01, 1.60079124e-04]]), array([[5.58692307e-07, 1.38996321e-07, 1.49884699e-05, ...,\n",
      "        5.25796963e-01, 2.11054650e-07, 2.80816865e-07],\n",
      "       [3.99617057e-03, 6.67317512e-02, 8.51722240e-01, ...,\n",
      "        9.99930791e-01, 4.82358605e-01, 4.18764695e-01],\n",
      "       [7.09939760e-08, 9.98664945e-01, 1.29128843e-03, ...,\n",
      "        9.99720096e-01, 5.69256458e-05, 1.68647858e-03],\n",
      "       ...,\n",
      "       [5.21069502e-05, 1.19791943e-03, 9.20539042e-06, ...,\n",
      "        9.95378326e-01, 7.03932918e-07, 3.40623340e-02],\n",
      "       [1.69177559e-04, 9.97895542e-04, 5.89487980e-05, ...,\n",
      "        9.99975029e-01, 8.21312104e-05, 3.85128276e-01],\n",
      "       [1.23911670e-05, 2.78054476e-06, 1.28133606e-05, ...,\n",
      "        9.99959717e-01, 8.81454752e-01, 1.87277646e-04]]), array([[5.79537458e-07, 3.98040181e-08, 2.35706743e-06, ...,\n",
      "        6.94131491e-01, 7.89834032e-08, 4.09282186e-05],\n",
      "       [4.20685751e-02, 1.74027067e-02, 3.68619140e-01, ...,\n",
      "        9.99971566e-01, 6.46545347e-01, 8.17024556e-01],\n",
      "       [8.44403183e-08, 9.99555704e-01, 4.01021227e-04, ...,\n",
      "        9.97740388e-01, 2.51863915e-04, 2.50321159e-04],\n",
      "       ...,\n",
      "       [1.49318736e-05, 6.38509305e-04, 6.05611365e-06, ...,\n",
      "        9.98154383e-01, 4.96399902e-06, 2.83446903e-01],\n",
      "       [1.13596652e-04, 1.19941981e-03, 5.84800581e-05, ...,\n",
      "        9.98930526e-01, 3.46031889e-06, 1.36061069e-02],\n",
      "       [1.11832563e-06, 2.76811179e-07, 1.36281769e-06, ...,\n",
      "        9.99940760e-01, 9.86997672e-01, 5.00831081e-05]]), array([[1.04760262e-06, 1.25315519e-07, 6.99193500e-06, ...,\n",
      "        1.05182390e-01, 1.22389309e-08, 8.02404115e-07],\n",
      "       [1.83559555e-03, 1.42701378e-02, 9.52545287e-01, ...,\n",
      "        9.99940979e-01, 2.30041329e-01, 9.16858001e-01],\n",
      "       [5.76217793e-08, 9.99960606e-01, 1.39389127e-05, ...,\n",
      "        9.99965125e-01, 7.38320663e-05, 7.25814682e-04],\n",
      "       ...,\n",
      "       [2.38428108e-05, 3.21963179e-04, 8.81167175e-06, ...,\n",
      "        9.88553964e-01, 3.22510815e-06, 8.12795897e-01],\n",
      "       [2.53147704e-03, 1.71345929e-03, 4.54408586e-04, ...,\n",
      "        9.99928656e-01, 3.31829860e-04, 3.80628624e-02],\n",
      "       [6.03208301e-07, 2.00888867e-07, 5.10285361e-06, ...,\n",
      "        9.99986773e-01, 9.63102935e-01, 1.57447050e-04]]), array([[1.41379326e-07, 5.92309616e-08, 1.63782886e-06, ...,\n",
      "        1.33899876e-02, 7.78415559e-08, 2.76052323e-06],\n",
      "       [3.09823423e-03, 1.84550903e-03, 9.06381726e-01, ...,\n",
      "        9.99932968e-01, 7.54887752e-01, 9.55995773e-01],\n",
      "       [1.24663878e-07, 9.99977071e-01, 8.34682143e-06, ...,\n",
      "        9.99751768e-01, 9.89801456e-04, 3.37353418e-04],\n",
      "       ...,\n",
      "       [8.49585596e-05, 6.30935658e-04, 2.77151323e-05, ...,\n",
      "        9.98186146e-01, 6.51392178e-06, 5.09061040e-01],\n",
      "       [5.88501760e-04, 8.88987502e-04, 6.48041405e-04, ...,\n",
      "        9.99656454e-01, 1.22982699e-05, 1.81668610e-02],\n",
      "       [2.30199655e-06, 1.77576272e-06, 1.91412087e-04, ...,\n",
      "        9.99910479e-01, 8.28003116e-01, 4.62057471e-04]]), array([[1.76368566e-08, 2.81267847e-08, 1.76796146e-06, ...,\n",
      "        4.10800578e-02, 2.25271071e-08, 1.94259097e-07],\n",
      "       [1.33291362e-03, 4.73033522e-03, 9.62198509e-01, ...,\n",
      "        9.99910076e-01, 7.80878815e-01, 9.51943569e-01],\n",
      "       [2.03955243e-07, 9.99373987e-01, 4.97978757e-04, ...,\n",
      "        9.99495599e-01, 1.46232606e-03, 2.03092308e-03],\n",
      "       ...,\n",
      "       [2.98278593e-04, 2.01989107e-03, 7.02469398e-05, ...,\n",
      "        9.82340211e-01, 1.85978636e-05, 1.01217573e-02],\n",
      "       [1.92614752e-03, 1.00857414e-03, 4.47691077e-05, ...,\n",
      "        9.99685498e-01, 7.30722725e-06, 2.38298842e-02],\n",
      "       [2.48297689e-06, 5.48482385e-06, 2.16667173e-05, ...,\n",
      "        9.99505772e-01, 9.25631626e-01, 9.19504053e-05]]), array([[2.32031508e-07, 3.51245428e-07, 4.94168535e-06, ...,\n",
      "        3.64834270e-04, 4.84142124e-08, 7.46904471e-08],\n",
      "       [1.14601481e-03, 5.46382608e-03, 9.83564849e-01, ...,\n",
      "        9.99811279e-01, 9.39539880e-01, 8.54145354e-01],\n",
      "       [7.80042954e-07, 9.99796150e-01, 4.10002277e-05, ...,\n",
      "        9.99804368e-01, 9.80771716e-04, 1.13985080e-04],\n",
      "       ...,\n",
      "       [3.24939620e-04, 8.10029692e-03, 5.05529875e-04, ...,\n",
      "        9.74791577e-01, 6.14675998e-06, 1.19888643e-02],\n",
      "       [9.47344193e-04, 5.28187056e-04, 2.14368048e-04, ...,\n",
      "        9.99489567e-01, 1.06060352e-05, 7.79864697e-03],\n",
      "       [3.62231349e-06, 4.42925280e-06, 7.48133013e-05, ...,\n",
      "        9.99491070e-01, 9.58559794e-01, 8.98231284e-05]]), array([[1.04976847e-08, 3.73650316e-07, 4.66950916e-06, ...,\n",
      "        8.10441847e-05, 1.28066127e-07, 1.60070659e-08],\n",
      "       [1.56097859e-03, 2.15828705e-02, 8.54027536e-01, ...,\n",
      "        9.98394007e-01, 5.99458664e-01, 9.99550882e-01],\n",
      "       [9.84702056e-07, 9.99765838e-01, 4.44164025e-05, ...,\n",
      "        9.95739220e-01, 1.35362522e-04, 3.77441302e-04],\n",
      "       ...,\n",
      "       [7.23176861e-05, 1.36160417e-03, 1.72063147e-03, ...,\n",
      "        6.92223265e-01, 7.13540257e-06, 1.32621477e-02],\n",
      "       [1.65490907e-05, 5.73116008e-05, 5.98372414e-05, ...,\n",
      "        9.61674810e-01, 7.69893875e-06, 9.51522279e-03],\n",
      "       [5.56449756e-07, 4.78057062e-07, 6.12225391e-06, ...,\n",
      "        9.99787195e-01, 9.36238924e-01, 9.05765419e-05]]), array([[1.88656028e-08, 6.85156047e-08, 4.84748082e-07, ...,\n",
      "        2.29037321e-03, 2.11520747e-08, 5.30920369e-07],\n",
      "       [4.45492479e-05, 5.24651275e-04, 9.99128456e-01, ...,\n",
      "        9.99527508e-01, 9.79152969e-01, 9.98492342e-01],\n",
      "       [2.19555721e-08, 9.99982546e-01, 4.42262433e-06, ...,\n",
      "        9.96565028e-01, 1.93599698e-04, 1.74160690e-03],\n",
      "       ...,\n",
      "       [4.32540521e-04, 2.47328280e-03, 1.79800417e-03, ...,\n",
      "        7.95346012e-01, 2.95526967e-05, 9.14909397e-03],\n",
      "       [4.74655319e-05, 3.51469917e-05, 1.21313757e-05, ...,\n",
      "        9.99637997e-01, 3.28555988e-05, 5.20147443e-03],\n",
      "       [1.78735923e-06, 1.66051304e-06, 4.43941992e-06, ...,\n",
      "        9.99926286e-01, 9.39179338e-01, 6.86104413e-05]]), array([[2.23764499e-05, 2.37107792e-05, 4.07084750e-05, ...,\n",
      "        9.94739698e-01, 2.13512879e-05, 6.91866616e-05],\n",
      "       [9.95835961e-01, 3.26863644e-04, 4.66403342e-04, ...,\n",
      "        9.99978833e-01, 1.54920879e-03, 6.83107020e-03],\n",
      "       [2.94070686e-07, 9.74085344e-06, 6.13740832e-04, ...,\n",
      "        9.99049581e-01, 1.08918639e-06, 3.73519759e-06],\n",
      "       ...,\n",
      "       [1.37990227e-05, 6.03592203e-06, 4.13864859e-07, ...,\n",
      "        8.52167761e-01, 2.82916224e-04, 6.44549970e-05],\n",
      "       [5.61256131e-05, 3.41804522e-06, 3.44159221e-06, ...,\n",
      "        9.99977045e-01, 5.68484771e-04, 5.95745905e-04],\n",
      "       [9.78505769e-06, 1.24266980e-06, 2.57953292e-06, ...,\n",
      "        9.99954183e-01, 5.86930672e-06, 9.99867481e-01]]), array([[1.08496687e-06, 4.21956026e-07, 2.45251583e-06, ...,\n",
      "        9.99431986e-01, 9.15927711e-06, 2.93857021e-04],\n",
      "       [9.98942600e-01, 1.07015298e-04, 4.98173529e-05, ...,\n",
      "        9.99975479e-01, 7.37194894e-04, 2.93435789e-03],\n",
      "       [1.62516682e-07, 1.88375592e-06, 1.85919472e-04, ...,\n",
      "        9.98330498e-01, 1.19088066e-07, 3.43465205e-07],\n",
      "       ...,\n",
      "       [1.29091090e-07, 1.79716532e-07, 6.61019385e-08, ...,\n",
      "        9.67492345e-01, 1.21289359e-04, 1.82832453e-05],\n",
      "       [2.65737283e-06, 9.48063117e-06, 1.67798465e-06, ...,\n",
      "        9.99993466e-01, 2.70573075e-04, 2.17870001e-05],\n",
      "       [8.75934143e-06, 4.14376182e-07, 5.04587546e-08, ...,\n",
      "        9.69880732e-01, 2.32231241e-06, 9.99804320e-01]]), array([[3.97910308e-06, 2.81402608e-06, 1.22409228e-06, ...,\n",
      "        9.99600750e-01, 5.12375569e-05, 3.80857674e-04],\n",
      "       [9.97222941e-01, 8.36012944e-05, 5.74804909e-04, ...,\n",
      "        9.99998547e-01, 6.73567929e-03, 8.99013041e-04],\n",
      "       [1.04398934e-06, 1.81575532e-05, 1.09539202e-03, ...,\n",
      "        9.99936262e-01, 4.41807543e-07, 1.60997252e-05],\n",
      "       ...,\n",
      "       [2.47187634e-07, 8.09896402e-09, 4.25617179e-09, ...,\n",
      "        9.91903042e-01, 2.06736117e-04, 1.98640189e-04],\n",
      "       [4.47213155e-07, 1.90634003e-06, 2.40923032e-06, ...,\n",
      "        9.99998149e-01, 6.99792999e-03, 1.23115968e-04],\n",
      "       [3.56826032e-05, 8.19994829e-06, 8.38579548e-07, ...,\n",
      "        9.91630133e-01, 8.92161910e-07, 9.96318823e-01]]), array([[7.64431553e-06, 1.87874145e-06, 4.22360179e-07, ...,\n",
      "        9.90396511e-01, 4.00386674e-05, 2.21674478e-04],\n",
      "       [9.99934591e-01, 4.95810859e-06, 3.18239853e-05, ...,\n",
      "        9.99999694e-01, 1.32373336e-02, 4.60205701e-03],\n",
      "       [1.43459543e-06, 2.15544819e-05, 1.85902691e-04, ...,\n",
      "        9.96100194e-01, 2.90883781e-07, 1.22682425e-06],\n",
      "       ...,\n",
      "       [2.67959536e-05, 2.14502824e-07, 5.71095677e-07, ...,\n",
      "        9.99075325e-01, 2.33303014e-05, 3.90340012e-05],\n",
      "       [1.79703063e-07, 7.24162444e-07, 2.30666732e-06, ...,\n",
      "        9.99998285e-01, 6.27652683e-03, 3.65071173e-04],\n",
      "       [2.01077106e-06, 3.69985241e-07, 6.96728249e-08, ...,\n",
      "        9.98753384e-01, 3.29885157e-07, 9.94500579e-01]]), array([[3.07961679e-06, 1.76127585e-06, 2.45658661e-06, ...,\n",
      "        9.98451707e-01, 1.34411665e-04, 1.57475564e-03],\n",
      "       [9.99680812e-01, 1.36723043e-05, 4.64460644e-05, ...,\n",
      "        9.99999863e-01, 5.30715859e-03, 6.56369820e-03],\n",
      "       [3.12661632e-07, 1.90702123e-06, 4.47532057e-05, ...,\n",
      "        9.99474994e-01, 6.15469554e-07, 1.95400749e-07],\n",
      "       ...,\n",
      "       [3.77117625e-05, 9.58371483e-06, 1.04606201e-06, ...,\n",
      "        9.99750398e-01, 3.70666509e-04, 4.52437969e-04],\n",
      "       [3.40659889e-06, 3.55098687e-06, 5.71147233e-06, ...,\n",
      "        9.99988552e-01, 6.01594830e-03, 2.17180197e-04],\n",
      "       [2.05550205e-06, 6.69279119e-08, 5.18403295e-08, ...,\n",
      "        8.68788215e-01, 3.55374592e-08, 9.99410436e-01]]), array([[2.95386059e-07, 7.14156417e-07, 2.29970971e-06, ...,\n",
      "        9.97963033e-01, 1.82339815e-05, 6.92393207e-04],\n",
      "       [9.99777227e-01, 2.92673962e-05, 6.55330138e-05, ...,\n",
      "        9.99999549e-01, 3.91101942e-03, 5.75243635e-03],\n",
      "       [1.60979656e-07, 4.67929054e-07, 7.05139083e-06, ...,\n",
      "        9.76837151e-01, 8.97555579e-08, 4.11209192e-08],\n",
      "       ...,\n",
      "       [8.22532181e-06, 4.77973792e-07, 1.75773296e-06, ...,\n",
      "        9.99112480e-01, 4.78253752e-05, 1.41178185e-05],\n",
      "       [3.95115305e-06, 5.81154426e-07, 3.71684313e-07, ...,\n",
      "        9.99878685e-01, 1.24207298e-03, 2.52199742e-04],\n",
      "       [1.85280772e-06, 7.23451344e-08, 1.15548625e-07, ...,\n",
      "        9.63804982e-01, 1.64401499e-07, 9.95639512e-01]]), array([[2.44526436e-07, 5.54240679e-07, 4.29615378e-06, ...,\n",
      "        9.98471817e-01, 1.21095549e-03, 1.77811076e-03],\n",
      "       [9.94035740e-01, 8.54755802e-06, 5.53881376e-05, ...,\n",
      "        9.99998983e-01, 5.11276194e-03, 9.86443404e-03],\n",
      "       [1.24167184e-06, 9.33490686e-08, 2.26462140e-07, ...,\n",
      "        9.94842378e-01, 9.59876013e-08, 1.32857416e-07],\n",
      "       ...,\n",
      "       [3.41826858e-06, 6.29323272e-07, 5.08866229e-06, ...,\n",
      "        9.98923775e-01, 3.01601354e-05, 1.01909507e-05],\n",
      "       [1.90032453e-06, 1.45623530e-05, 7.67293131e-06, ...,\n",
      "        9.99976895e-01, 1.25445284e-02, 2.09514361e-04],\n",
      "       [6.43910031e-06, 9.60510215e-08, 1.87983637e-07, ...,\n",
      "        9.94312049e-01, 6.19893981e-07, 9.99086803e-01]]), array([[7.44332558e-07, 4.63613165e-06, 1.44086714e-05, ...,\n",
      "        9.92936540e-01, 7.89774249e-05, 1.12353958e-03],\n",
      "       [9.97412190e-01, 2.58154790e-04, 9.61288479e-04, ...,\n",
      "        9.99997382e-01, 6.23698560e-03, 3.00270583e-02],\n",
      "       [2.43715036e-06, 8.49490819e-06, 7.85526853e-04, ...,\n",
      "        9.95186021e-01, 1.06264478e-07, 1.13503649e-06],\n",
      "       ...,\n",
      "       [1.26898497e-06, 3.12075064e-07, 9.54522193e-08, ...,\n",
      "        9.98715685e-01, 3.14807223e-05, 1.12009766e-04],\n",
      "       [8.11284573e-06, 3.32415158e-05, 1.29776875e-04, ...,\n",
      "        9.99983349e-01, 3.66966212e-02, 4.43544569e-04],\n",
      "       [2.91592279e-05, 6.97052165e-08, 2.42930369e-06, ...,\n",
      "        9.83095693e-01, 2.20642671e-07, 9.99842441e-01]]), array([[2.93087554e-08, 2.00596737e-07, 1.36255058e-06, ...,\n",
      "        9.99997455e-01, 3.46981034e-05, 1.66653840e-03],\n",
      "       [9.81005064e-01, 1.66602743e-04, 4.73084844e-04, ...,\n",
      "        9.99996905e-01, 4.35304348e-04, 1.28742037e-02],\n",
      "       [1.50293972e-08, 1.32371529e-07, 2.20583757e-05, ...,\n",
      "        9.91392340e-01, 2.32150124e-07, 3.33854862e-07],\n",
      "       ...,\n",
      "       [8.12093088e-06, 5.42178871e-06, 5.07650674e-07, ...,\n",
      "        9.98697609e-01, 1.01720090e-04, 3.40885554e-06],\n",
      "       [6.35345510e-06, 2.43789828e-05, 1.29425109e-04, ...,\n",
      "        9.99974661e-01, 9.66466326e-02, 5.67916568e-04],\n",
      "       [6.00530205e-06, 2.80498067e-07, 2.15537138e-07, ...,\n",
      "        9.98421165e-01, 1.22447543e-07, 9.99921407e-01]]), array([[4.42819610e-07, 3.17712481e-07, 1.38154130e-07, ...,\n",
      "        9.99631596e-01, 6.44497302e-06, 7.06405608e-03],\n",
      "       [7.72539992e-01, 1.00565696e-03, 2.55356833e-03, ...,\n",
      "        9.99992746e-01, 5.67885543e-03, 1.27933399e-02],\n",
      "       [7.92985651e-08, 5.15957958e-08, 3.36352613e-05, ...,\n",
      "        9.91803578e-01, 4.21532903e-07, 3.08804635e-06],\n",
      "       ...,\n",
      "       [1.24947238e-05, 1.10746120e-06, 4.21576048e-07, ...,\n",
      "        9.59132719e-01, 1.99196098e-05, 7.41597778e-06],\n",
      "       [9.03375679e-06, 8.50507973e-06, 1.73845899e-04, ...,\n",
      "        9.99966449e-01, 6.19390582e-02, 4.13174462e-03],\n",
      "       [8.93573885e-07, 1.17356354e-07, 1.26661924e-07, ...,\n",
      "        9.99692821e-01, 1.26365910e-07, 9.88589756e-01]]), array([[7.43665084e-09, 1.40564630e-08, 2.34808175e-08, ...,\n",
      "        9.98476478e-01, 4.94355837e-04, 4.07480141e-03],\n",
      "       [9.99563541e-01, 6.51754908e-06, 1.00465875e-05, ...,\n",
      "        9.99999271e-01, 9.25738384e-04, 1.81500971e-02],\n",
      "       [1.32687792e-07, 1.02458825e-06, 1.21583305e-04, ...,\n",
      "        9.99135626e-01, 5.01526189e-06, 2.63689107e-06],\n",
      "       ...,\n",
      "       [1.36684036e-05, 3.42794346e-06, 1.98768918e-06, ...,\n",
      "        3.35761970e-01, 1.26507312e-05, 7.77099048e-06],\n",
      "       [1.57570303e-05, 1.34507984e-05, 2.46784051e-04, ...,\n",
      "        9.99963780e-01, 9.15991644e-03, 1.38775047e-03],\n",
      "       [8.00778429e-06, 5.22057999e-07, 3.49309020e-06, ...,\n",
      "        9.99278742e-01, 1.27830846e-08, 9.95846101e-01]]), array([[4.46608055e-08, 1.65060308e-07, 1.04717484e-07, ...,\n",
      "        9.99960048e-01, 1.10943497e-04, 8.54760761e-03],\n",
      "       [9.92697968e-01, 7.00308272e-05, 3.03512376e-05, ...,\n",
      "        9.99998049e-01, 5.03529502e-03, 7.62562111e-03],\n",
      "       [3.99575830e-07, 1.29916736e-06, 1.42767321e-04, ...,\n",
      "        9.99953287e-01, 4.61041438e-06, 1.41090973e-04],\n",
      "       ...,\n",
      "       [1.78509566e-06, 5.32768756e-07, 4.28004204e-06, ...,\n",
      "        6.94543502e-01, 2.50055135e-06, 1.71750038e-05],\n",
      "       [4.86054078e-07, 3.78245754e-07, 1.66891462e-05, ...,\n",
      "        9.99900874e-01, 2.35900484e-01, 1.03184013e-02],\n",
      "       [1.53352937e-06, 1.05473121e-07, 1.82541907e-08, ...,\n",
      "        9.99821252e-01, 2.67494431e-07, 9.87369980e-01]]), array([[2.63915193e-07, 3.58563425e-07, 5.38442113e-07, ...,\n",
      "        9.99860000e-01, 1.34843425e-04, 1.12079862e-03],\n",
      "       [9.99974214e-01, 2.84765938e-06, 1.41522821e-05, ...,\n",
      "        9.99998493e-01, 3.64847199e-02, 1.25623539e-01],\n",
      "       [8.97589246e-08, 5.49854671e-08, 9.81041724e-07, ...,\n",
      "        9.99746116e-01, 1.73809356e-06, 8.91152310e-05],\n",
      "       ...,\n",
      "       [1.68506389e-06, 4.01087209e-07, 1.16786111e-06, ...,\n",
      "        8.83595091e-01, 1.51712198e-05, 7.28351415e-06],\n",
      "       [2.92055772e-07, 2.91644096e-07, 1.02246232e-05, ...,\n",
      "        9.99949106e-01, 1.71993615e-01, 8.14146796e-04],\n",
      "       [3.66660261e-07, 8.16035557e-08, 3.75259529e-08, ...,\n",
      "        9.99981333e-01, 2.08264432e-06, 9.98256752e-01]]), array([[1.77825149e-06, 2.24859240e-07, 4.54378124e-06, ...,\n",
      "        9.99021527e-01, 6.27940230e-05, 1.23714766e-03],\n",
      "       [9.99976268e-01, 8.43047096e-07, 1.22137623e-05, ...,\n",
      "        9.99990776e-01, 2.74470335e-01, 3.46001429e-02],\n",
      "       [1.77455413e-07, 7.76902643e-08, 1.58854820e-07, ...,\n",
      "        9.75151356e-01, 2.47791491e-07, 9.36528563e-06],\n",
      "       ...,\n",
      "       [4.99236114e-06, 1.09232054e-06, 3.56611152e-07, ...,\n",
      "        9.97672653e-01, 4.77922663e-05, 3.53312646e-05],\n",
      "       [2.69659874e-07, 3.27015346e-08, 5.70769949e-05, ...,\n",
      "        9.99985917e-01, 8.27079491e-01, 8.82266169e-03],\n",
      "       [2.94830066e-07, 8.80624203e-08, 2.73873361e-07, ...,\n",
      "        9.99779860e-01, 5.07944071e-07, 9.98033805e-01]]), array([[3.97672506e-08, 6.74541240e-08, 8.94783892e-08, ...,\n",
      "        9.98634508e-01, 1.70789035e-03, 1.69306678e-03],\n",
      "       [9.99970825e-01, 1.14847345e-07, 1.85822220e-06, ...,\n",
      "        9.99987186e-01, 4.61269439e-02, 4.10721843e-03],\n",
      "       [4.17107920e-08, 3.17644753e-08, 8.66734145e-07, ...,\n",
      "        9.99831871e-01, 4.39739689e-07, 5.43986622e-06],\n",
      "       ...,\n",
      "       [1.67322064e-07, 1.16500400e-08, 2.36912187e-08, ...,\n",
      "        9.81847483e-01, 5.44219399e-05, 3.32914882e-04],\n",
      "       [1.11667709e-07, 5.48238375e-08, 3.93222495e-06, ...,\n",
      "        9.99989609e-01, 8.00901660e-01, 4.31906029e-03],\n",
      "       [5.31930028e-07, 8.94147614e-08, 3.35979594e-07, ...,\n",
      "        9.96543689e-01, 2.52728619e-06, 9.93867223e-01]])]\n"
     ]
    }
   ],
   "source": [
    "lbls = dbn.label_log\n",
    "print(lbls)"
   ]
  },
  {
   "cell_type": "code",
   "execution_count": 11,
   "metadata": {
    "pycharm": {
     "is_executing": false
    }
   },
   "outputs": [
    {
     "name": "stdout",
     "output_type": "stream",
     "text": [
      "From the top RBM, drive the network\n",
      "generate mp4s/dbn.generate0.mp4\n",
      "From the top RBM, drive the network\n",
      "generate mp4s/dbn.generate1.mp4\n",
      "From the top RBM, drive the network\n",
      "generate mp4s/dbn.generate2.mp4\n",
      "From the top RBM, drive the network\n",
      "generate mp4s/dbn.generate3.mp4\n",
      "From the top RBM, drive the network\n",
      "generate mp4s/dbn.generate4.mp4\n",
      "From the top RBM, drive the network\n",
      "generate mp4s/dbn.generate5.mp4\n",
      "From the top RBM, drive the network\n",
      "generate mp4s/dbn.generate6.mp4\n",
      "From the top RBM, drive the network\n",
      "generate mp4s/dbn.generate7.mp4\n",
      "From the top RBM, drive the network\n",
      "generate mp4s/dbn.generate8.mp4\n",
      "From the top RBM, drive the network\n",
      "generate mp4s/dbn.generate9.mp4\n"
     ]
    },
    {
     "data": {
      "image/png": "[encoded data removed]",
      "text/plain": [
       "<Figure size 216x216 with 1 Axes>"
      ]
     },
     "metadata": {},
     "output_type": "display_data"
    },
    {
     "data": {
      "image/png": "[encoded data removed]",
      "text/plain": [
       "<Figure size 216x216 with 1 Axes>"
      ]
     },
     "metadata": {},
     "output_type": "display_data"
    },
    {
     "data": {
      "image/png": "[encoded data removed]",
      "text/plain": [
       "<Figure size 216x216 with 1 Axes>"
      ]
     },
     "metadata": {},
     "output_type": "display_data"
    },
    {
     "data": {
      "image/png": "[encoded data removed]",
      "text/plain": [
       "<Figure size 216x216 with 1 Axes>"
      ]
     },
     "metadata": {},
     "output_type": "display_data"
    },
    {
     "data": {
      "image/png": "[encoded data removed]",
      "text/plain": [
       "<Figure size 216x216 with 1 Axes>"
      ]
     },
     "metadata": {},
     "output_type": "display_data"
    },
    {
     "data": {
      "image/png": "[encoded data removed]",
      "text/plain": [
       "<Figure size 216x216 with 1 Axes>"
      ]
     },
     "metadata": {},
     "output_type": "display_data"
    },
    {
     "data": {
      "image/png": "[encoded data removed]",
      "text/plain": [
       "<Figure size 216x216 with 1 Axes>"
      ]
     },
     "metadata": {},
     "output_type": "display_data"
    },
    {
     "data": {
      "image/png": "[encoded data removed]",
      "text/plain": [
       "<Figure size 216x216 with 1 Axes>"
      ]
     },
     "metadata": {},
     "output_type": "display_data"
    },
    {
     "data": {
      "image/png": "[encoded data removed]",
      "text/plain": [
       "<Figure size 216x216 with 1 Axes>"
      ]
     },
     "metadata": {},
     "output_type": "display_data"
    },
    {
     "data": {
      "image/png": "[encoded data removed]",
      "text/plain": [
       "<Figure size 216x216 with 1 Axes>"
      ]
     },
     "metadata": {},
     "output_type": "display_data"
    }
   ],
   "source": [
    "for digit in range(10):\n",
    "    digit_1hot = np.zeros(shape=(1,10))\n",
    "    digit_1hot[0,digit] = 1\n",
    "    dbn.generate(digit_1hot, name=\"dbn\")"
   ]
  },
  {
   "cell_type": "code",
   "execution_count": null,
   "metadata": {
    "pycharm": {
     "is_executing": false
    }
   },
   "outputs": [],
   "source": []
  }
 ],
 "metadata": {
  "kernelspec": {
   "display_name": "Python 3",
   "language": "python",
   "name": "python3"
  },
  "language_info": {
   "codemirror_mode": {
    "name": "ipython",
    "version": 3
   },
   "file_extension": ".py",
   "mimetype": "text/x-python",
   "name": "python",
   "nbconvert_exporter": "python",
   "pygments_lexer": "ipython3",
   "version": "3.7.4"
  },
  "pycharm": {
   "stem_cell": {
    "cell_type": "raw",
    "metadata": {
     "collapsed": false
    },
    "source": []
   }
  }
 },
 "nbformat": 4,
 "nbformat_minor": 1
}
