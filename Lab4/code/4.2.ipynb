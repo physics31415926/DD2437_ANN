{
 "cells": [
  {
   "cell_type": "code",
   "execution_count": 1,
   "metadata": {
    "pycharm": {
     "is_executing": false
    }
   },
   "outputs": [],
   "source": [
    "from util import *\n",
    "from rbm import RestrictedBoltzmannMachine \n",
    "from dbn import DeepBeliefNet\n",
    "import matplotlib.pyplot as plt"
   ]
  },
  {
   "cell_type": "code",
   "execution_count": 2,
   "metadata": {
    "pycharm": {
     "is_executing": false
    }
   },
   "outputs": [],
   "source": [
    "image_size = [28,28]\n",
    "train_imgs,train_lbls,test_imgs,test_lbls = read_mnist(dim=image_size, n_train=60000, n_test=10000)\n",
    "''' \n",
    "    network          : [top] <---> [pen] ---> [hid] ---> [vis] \n",
    "                               `-> [lbl] \n",
    "    lbl : label\n",
    "    top : top\n",
    "    pen : penultimate\n",
    "    hid : hidden\n",
    "    vis : visible\n",
    "'''\n",
    "\"\"\"\n",
    "Args:\n",
    "  sizes: Dictionary of layer names and dimensions\n",
    "  image_size: Image dimension of data\n",
    "  n_labels: Number of label categories\n",
    "  batch_size: Size of mini-batch\n",
    "\"\"\"\n",
    "lbl=10\n",
    "top=2000\n",
    "pen=500\n",
    "hid=500\n",
    "vis=28*28\n",
    "sizes={\"lbl\":lbl,\"top\":top,\"pen\":pen,\"hid\":hid,\"vis\":vis}\n",
    "batch_size = 10\n",
    "n_labels = lbl"
   ]
  },
  {
   "cell_type": "code",
   "execution_count": 3,
   "metadata": {
    "pycharm": {
     "is_executing": false
    }
   },
   "outputs": [],
   "source": [
    "#crete a DBN\n",
    "\n",
    "dbn = DeepBeliefNet(sizes=sizes,image_size=image_size,n_labels=n_labels,batch_size=batch_size)\n"
   ]
  },
  {
   "cell_type": "code",
   "execution_count": 4,
   "metadata": {
    "pycharm": {
     "is_executing": false
    }
   },
   "outputs": [
    {
     "name": "stdout",
     "output_type": "stream",
     "text": [
      "training vis--hid\n",
      "learning CD1\n",
      "iteration=      0 recon_loss=42.3601\n",
      "iteration=      1 recon_loss=36.4170\n",
      "iteration=      2 recon_loss=33.9771\n",
      "iteration=      3 recon_loss=32.7026\n",
      "iteration=      4 recon_loss=32.0468\n",
      "iteration=      5 recon_loss=31.4834\n",
      "iteration=      6 recon_loss=31.1567\n",
      "iteration=      7 recon_loss=30.9377\n",
      "iteration=      8 recon_loss=30.8481\n",
      "iteration=      9 recon_loss=30.6131\n",
      "iteration=     10 recon_loss=30.4346\n",
      "iteration=     11 recon_loss=30.3441\n",
      "iteration=     12 recon_loss=30.3311\n",
      "iteration=     13 recon_loss=30.2067\n",
      "iteration=     14 recon_loss=30.2025\n",
      "iteration=     15 recon_loss=30.1545\n",
      "iteration=     16 recon_loss=30.0878\n",
      "iteration=     17 recon_loss=29.9870\n",
      "iteration=     18 recon_loss=30.0566\n",
      "iteration=     19 recon_loss=30.0962\n",
      "iteration=     20 recon_loss=30.0769\n",
      "iteration=     21 recon_loss=29.9802\n",
      "iteration=     22 recon_loss=30.0681\n",
      "iteration=     23 recon_loss=29.9403\n",
      "iteration=     24 recon_loss=30.0371\n",
      "iteration=     25 recon_loss=29.9737\n",
      "iteration=     26 recon_loss=29.9772\n",
      "iteration=     27 recon_loss=29.9155\n",
      "iteration=     28 recon_loss=29.8841\n",
      "iteration=     29 recon_loss=29.8713\n",
      "training hid--pen\n",
      "learning CD1\n",
      "iteration=      0 recon_loss=28.0842\n",
      "iteration=      1 recon_loss=22.4045\n",
      "iteration=      2 recon_loss=19.7304\n",
      "iteration=      3 recon_loss=17.9596\n",
      "iteration=      4 recon_loss=16.8624\n",
      "iteration=      5 recon_loss=15.8930\n",
      "iteration=      6 recon_loss=15.2895\n",
      "iteration=      7 recon_loss=14.6472\n",
      "iteration=      8 recon_loss=14.2672\n",
      "iteration=      9 recon_loss=13.8447\n",
      "iteration=     10 recon_loss=13.5918\n",
      "iteration=     11 recon_loss=13.1866\n",
      "iteration=     12 recon_loss=12.8414\n",
      "iteration=     13 recon_loss=12.7419\n",
      "iteration=     14 recon_loss=12.5384\n",
      "iteration=     15 recon_loss=12.2858\n",
      "iteration=     16 recon_loss=12.1434\n",
      "iteration=     17 recon_loss=11.9305\n",
      "iteration=     18 recon_loss=11.8424\n",
      "iteration=     19 recon_loss=11.6654\n",
      "iteration=     20 recon_loss=11.5155\n",
      "iteration=     21 recon_loss=11.4003\n",
      "iteration=     22 recon_loss=11.2230\n",
      "iteration=     23 recon_loss=11.1666\n",
      "iteration=     24 recon_loss=11.0327\n",
      "iteration=     25 recon_loss=10.9815\n",
      "iteration=     26 recon_loss=10.8727\n",
      "iteration=     27 recon_loss=10.7576\n",
      "iteration=     28 recon_loss=10.6734\n",
      "iteration=     29 recon_loss=10.5934\n",
      "training pen+lbl--top\n",
      "learning CD1\n",
      "iteration=      0 recon_loss=41.6666\n",
      "iteration=      1 recon_loss=35.4332\n",
      "iteration=      2 recon_loss=32.9130\n",
      "iteration=      3 recon_loss=31.0297\n",
      "iteration=      4 recon_loss=29.4597\n",
      "iteration=      5 recon_loss=28.9098\n",
      "iteration=      6 recon_loss=28.2034\n",
      "iteration=      7 recon_loss=27.8589\n",
      "iteration=      8 recon_loss=27.0224\n",
      "iteration=      9 recon_loss=26.7975\n",
      "iteration=     10 recon_loss=26.2856\n",
      "iteration=     11 recon_loss=25.9917\n",
      "iteration=     12 recon_loss=25.6530\n",
      "iteration=     13 recon_loss=25.3951\n",
      "iteration=     14 recon_loss=25.1714\n",
      "iteration=     15 recon_loss=24.9125\n",
      "iteration=     16 recon_loss=24.6324\n",
      "iteration=     17 recon_loss=24.4189\n",
      "iteration=     18 recon_loss=24.2624\n",
      "iteration=     19 recon_loss=24.0954\n",
      "iteration=     20 recon_loss=23.7935\n",
      "iteration=     21 recon_loss=23.7827\n",
      "iteration=     22 recon_loss=23.6498\n",
      "iteration=     23 recon_loss=23.4129\n",
      "iteration=     24 recon_loss=23.1573\n",
      "iteration=     25 recon_loss=23.1755\n",
      "iteration=     26 recon_loss=22.9627\n",
      "iteration=     27 recon_loss=22.7722\n",
      "iteration=     28 recon_loss=22.6965\n",
      "iteration=     29 recon_loss=22.5183\n"
     ]
    }
   ],
   "source": [
    "#train the dbn\n",
    "\n",
    "n_iterations = 30\n",
    "dbn.train_greedylayerwise(vis_trainset=train_imgs,lbl_trainset=train_lbls,n_iterations=n_iterations)"
   ]
  },
  {
   "cell_type": "code",
   "execution_count": 5,
   "metadata": {
    "pycharm": {
     "is_executing": false
    }
   },
   "outputs": [
    {
     "data": {
      "image/png": "[encoded data removed]",
      "text/plain": [
       "<Figure size 432x288 with 1 Axes>"
      ]
     },
     "metadata": {
      "needs_background": "light"
     },
     "output_type": "display_data"
    },
    {
     "data": {
      "image/png": "[encoded data removed]",
      "text/plain": [
       "<Figure size 432x288 with 1 Axes>"
      ]
     },
     "metadata": {
      "needs_background": "light"
     },
     "output_type": "display_data"
    }
   ],
   "source": [
    "#show the errors of first two RBMs\n",
    "x=[i+1 for i in range(n_iterations)]\n",
    "plt.ylabel(\"MSE\")\n",
    "plt.xlabel(\"Epoch\")\n",
    "plt.plot(x,dbn.vis_hid_errors)\n",
    "plt.title(\"vis--hid errors\")\n",
    "plt.savefig(\"vis_hid_errors.png\")\n",
    "plt.show()\n",
    "plt.ylabel(\"MSE\")\n",
    "plt.xlabel(\"Epoch\")\n",
    "plt.plot(x,dbn.hid_pen_errors)\n",
    "plt.title(\"hid--pen errors\")\n",
    "plt.savefig(\"hid_pen_errors.png\")\n",
    "plt.show()"
   ]
  },
  {
   "cell_type": "code",
   "execution_count": 6,
   "metadata": {
    "pycharm": {
     "is_executing": false
    }
   },
   "outputs": [
    {
     "name": "stdout",
     "output_type": "stream",
     "text": [
      "drive the network bottom to top\n",
      "vis--hid\n",
      "hid--pen\n",
      "pen+lbl--top\n",
      "pen+lbl--top\n",
      "pen+lbl--top\n",
      "pen+lbl--top\n",
      "pen+lbl--top\n",
      "pen+lbl--top\n",
      "pen+lbl--top\n",
      "pen+lbl--top\n",
      "pen+lbl--top\n",
      "pen+lbl--top\n",
      "pen+lbl--top\n",
      "pen+lbl--top\n",
      "pen+lbl--top\n",
      "pen+lbl--top\n",
      "pen+lbl--top\n",
      "accuracy = 84.85%\n"
     ]
    }
   ],
   "source": [
    "dbn.recognize(test_imgs,test_lbls)"
   ]
  },
  {
   "cell_type": "code",
   "execution_count": 7,
   "metadata": {
    "pycharm": {
     "is_executing": false,
     "name": "#%%\n"
    }
   },
   "outputs": [
    {
     "name": "stdout",
     "output_type": "stream",
     "text": [
      "drive the network bottom to top\n",
      "vis--hid\n",
      "hid--pen\n",
      "pen+lbl--top\n",
      "pen+lbl--top\n",
      "pen+lbl--top\n",
      "pen+lbl--top\n",
      "pen+lbl--top\n",
      "pen+lbl--top\n",
      "pen+lbl--top\n",
      "pen+lbl--top\n",
      "pen+lbl--top\n",
      "pen+lbl--top\n",
      "pen+lbl--top\n",
      "pen+lbl--top\n",
      "pen+lbl--top\n",
      "pen+lbl--top\n",
      "pen+lbl--top\n",
      "accuracy = 84.41%\n"
     ]
    }
   ],
   "source": [
    "dbn.recognize(train_imgs,train_lbls)"
   ]
  },
  {
   "cell_type": "code",
   "execution_count": 21,
   "metadata": {
    "pycharm": {
     "is_executing": false,
     "name": "#%%\n"
    }
   },
   "outputs": [
    {
     "name": "stdout",
     "output_type": "stream",
     "text": [
      "[3.22873863e-07 3.35116426e-04 7.88131315e-07 ... 1.59025955e-04\n",
      " 2.49369825e-04 4.86944717e-04]\n",
      "[1.30789272e-07 4.39335686e-04 5.97966409e-07 ... 2.22745311e-06\n",
      " 1.74288469e-04 2.91244192e-05]\n",
      "[5.63733930e-07 3.09436414e-04 5.23652431e-06 ... 1.47508591e-05\n",
      " 1.70392285e-04 1.60322347e-05]\n",
      "[3.86293573e-08 2.43202745e-04 8.31336337e-06 ... 1.96085387e-04\n",
      " 3.36258136e-04 5.79947902e-05]\n",
      "[4.47038542e-08 3.28240444e-04 2.74450446e-07 ... 2.62991792e-06\n",
      " 1.18213305e-05 1.97821676e-05]\n",
      "[3.64655588e-09 3.33122778e-04 3.52093278e-07 ... 4.45174291e-04\n",
      " 4.30590839e-05 4.41989279e-06]\n",
      "[1.31091402e-08 5.44147754e-02 5.56375202e-07 ... 4.73586553e-04\n",
      " 5.03167686e-05 8.93059250e-06]\n",
      "[5.58692307e-07 3.99617057e-03 7.09939760e-08 ... 5.21069502e-05\n",
      " 1.69177559e-04 1.23911670e-05]\n",
      "[5.79537458e-07 4.20685751e-02 8.44403183e-08 ... 1.49318736e-05\n",
      " 1.13596652e-04 1.11832563e-06]\n",
      "[1.04760262e-06 1.83559555e-03 5.76217793e-08 ... 2.38428108e-05\n",
      " 2.53147704e-03 6.03208301e-07]\n",
      "[1.41379326e-07 3.09823423e-03 1.24663878e-07 ... 8.49585596e-05\n",
      " 5.88501760e-04 2.30199655e-06]\n",
      "[1.76368566e-08 1.33291362e-03 2.03955243e-07 ... 2.98278593e-04\n",
      " 1.92614752e-03 2.48297689e-06]\n",
      "[2.32031508e-07 1.14601481e-03 7.80042954e-07 ... 3.24939620e-04\n",
      " 9.47344193e-04 3.62231349e-06]\n",
      "[1.04976847e-08 1.56097859e-03 9.84702056e-07 ... 7.23176861e-05\n",
      " 1.65490907e-05 5.56449756e-07]\n",
      "[1.88656028e-08 4.45492479e-05 2.19555721e-08 ... 4.32540521e-04\n",
      " 4.74655319e-05 1.78735923e-06]\n",
      "[2.23764499e-05 9.95835961e-01 2.94070686e-07 ... 1.37990227e-05\n",
      " 5.61256131e-05 9.78505769e-06]\n",
      "[1.08496687e-06 9.98942600e-01 1.62516682e-07 ... 1.29091090e-07\n",
      " 2.65737283e-06 8.75934143e-06]\n",
      "[3.97910308e-06 9.97222941e-01 1.04398934e-06 ... 2.47187634e-07\n",
      " 4.47213155e-07 3.56826032e-05]\n",
      "[7.64431553e-06 9.99934591e-01 1.43459543e-06 ... 2.67959536e-05\n",
      " 1.79703063e-07 2.01077106e-06]\n",
      "[3.07961679e-06 9.99680812e-01 3.12661632e-07 ... 3.77117625e-05\n",
      " 3.40659889e-06 2.05550205e-06]\n",
      "[2.95386059e-07 9.99777227e-01 1.60979656e-07 ... 8.22532181e-06\n",
      " 3.95115305e-06 1.85280772e-06]\n",
      "[2.44526436e-07 9.94035740e-01 1.24167184e-06 ... 3.41826858e-06\n",
      " 1.90032453e-06 6.43910031e-06]\n",
      "[7.44332558e-07 9.97412190e-01 2.43715036e-06 ... 1.26898497e-06\n",
      " 8.11284573e-06 2.91592279e-05]\n",
      "[2.93087554e-08 9.81005064e-01 1.50293972e-08 ... 8.12093088e-06\n",
      " 6.35345510e-06 6.00530205e-06]\n",
      "[4.42819610e-07 7.72539992e-01 7.92985651e-08 ... 1.24947238e-05\n",
      " 9.03375679e-06 8.93573885e-07]\n",
      "[7.43665084e-09 9.99563541e-01 1.32687792e-07 ... 1.36684036e-05\n",
      " 1.57570303e-05 8.00778429e-06]\n",
      "[4.46608055e-08 9.92697968e-01 3.99575830e-07 ... 1.78509566e-06\n",
      " 4.86054078e-07 1.53352937e-06]\n",
      "[2.63915193e-07 9.99974214e-01 8.97589246e-08 ... 1.68506389e-06\n",
      " 2.92055772e-07 3.66660261e-07]\n",
      "[1.77825149e-06 9.99976268e-01 1.77455413e-07 ... 4.99236114e-06\n",
      " 2.69659874e-07 2.94830066e-07]\n",
      "[3.97672506e-08 9.99970825e-01 4.17107920e-08 ... 1.67322064e-07\n",
      " 1.11667709e-07 5.31930028e-07]\n"
     ]
    }
   ],
   "source": [
    "lbls = dbn.label_log"
   ]
  },
  {
   "cell_type": "code",
   "execution_count": 40,
   "metadata": {
    "pycharm": {
     "is_executing": false
    }
   },
   "outputs": [
    {
     "name": "stdout",
     "output_type": "stream",
     "text": [
      "From the top RBM, drive the network\n",
      "generate mp4s/dbn.generate1.mp4\n",
      "From the top RBM, drive the network\n",
      "generate mp4s/dbn.generate1.mp4\n",
      "From the top RBM, drive the network\n",
      "generate mp4s/dbn.generate1.mp4\n",
      "From the top RBM, drive the network\n",
      "generate mp4s/dbn.generate1.mp4\n",
      "From the top RBM, drive the network\n",
      "generate mp4s/dbn.generate1.mp4\n",
      "From the top RBM, drive the network\n",
      "generate mp4s/dbn.generate1.mp4\n",
      "From the top RBM, drive the network\n",
      "generate mp4s/dbn.generate1.mp4\n",
      "From the top RBM, drive the network\n",
      "generate mp4s/dbn.generate1.mp4\n",
      "From the top RBM, drive the network\n",
      "generate mp4s/dbn.generate1.mp4\n",
      "From the top RBM, drive the network\n",
      "generate mp4s/dbn.generate1.mp4\n"
     ]
    },
    {
     "data": {
      "image/png": "[encoded data removed]",
      "text/plain": [
       "<Figure size 216x216 with 1 Axes>"
      ]
     },
     "metadata": {},
     "output_type": "display_data"
    },
    {
     "data": {
      "image/png": "[encoded data removed]",
      "text/plain": [
       "<Figure size 216x216 with 1 Axes>"
      ]
     },
     "metadata": {},
     "output_type": "display_data"
    },
    {
     "data": {
      "image/png": "[encoded data removed]",
      "text/plain": [
       "<Figure size 216x216 with 1 Axes>"
      ]
     },
     "metadata": {},
     "output_type": "display_data"
    },
    {
     "data": {
      "image/png": "[encoded data removed]",
      "text/plain": [
       "<Figure size 216x216 with 1 Axes>"
      ]
     },
     "metadata": {},
     "output_type": "display_data"
    },
    {
     "data": {
      "image/png": "[encoded data removed]",
      "text/plain": [
       "<Figure size 216x216 with 1 Axes>"
      ]
     },
     "metadata": {},
     "output_type": "display_data"
    },
    {
     "data": {
      "image/png": "[encoded data removed]",
      "text/plain": [
       "<Figure size 216x216 with 1 Axes>"
      ]
     },
     "metadata": {},
     "output_type": "display_data"
    },
    {
     "data": {
      "image/png": "[encoded data removed]",
      "text/plain": [
       "<Figure size 216x216 with 1 Axes>"
      ]
     },
     "metadata": {},
     "output_type": "display_data"
    },
    {
     "data": {
      "image/png": "[encoded data removed]",
      "text/plain": [
       "<Figure size 216x216 with 1 Axes>"
      ]
     },
     "metadata": {},
     "output_type": "display_data"
    },
    {
     "data": {
      "image/png": "[encoded data removed]",
      "text/plain": [
       "<Figure size 216x216 with 1 Axes>"
      ]
     },
     "metadata": {},
     "output_type": "display_data"
    },
    {
     "data": {
      "image/png": "[encoded data removed]",
      "text/plain": [
       "<Figure size 216x216 with 1 Axes>"
      ]
     },
     "metadata": {},
     "output_type": "display_data"
    }
   ],
   "source": [
    "for digit in range(20):\n",
    "    digit_1hot = np.zeros(shape=(1,10))\n",
    "    digit_1hot[0,1] = 1\n",
    "    dbn.generate(digit_1hot, name=\"dbn\")"
   ]
  },
  {
   "cell_type": "code",
   "execution_count": null,
   "metadata": {},
   "outputs": [],
   "source": []
  }
 ],
 "metadata": {
  "kernelspec": {
   "display_name": "Python 3",
   "language": "python",
   "name": "python3"
  },
  "language_info": {
   "codemirror_mode": {
    "name": "ipython",
    "version": 3
   },
   "file_extension": ".py",
   "mimetype": "text/x-python",
   "name": "python",
   "nbconvert_exporter": "python",
   "pygments_lexer": "ipython3",
   "version": "3.7.4"
  },
  "pycharm": {
   "stem_cell": {
    "cell_type": "raw",
    "metadata": {
     "collapsed": false
    },
    "source": []
   }
  }
 },
 "nbformat": 4,
 "nbformat_minor": 1
}
