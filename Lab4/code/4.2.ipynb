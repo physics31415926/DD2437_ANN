{
 "cells": [
  {
   "cell_type": "code",
   "execution_count": 15,
   "metadata": {
    "pycharm": {
     "name": "#%%\n",
     "is_executing": false
    }
   },
   "outputs": [],
   "source": [
    "from util import *\n",
    "from rbm import RestrictedBoltzmannMachine \n",
    "from dbn import DeepBeliefNet\n",
    "import matplotlib.pyplot as plt"
   ]
  },
  {
   "cell_type": "code",
   "execution_count": 16,
   "metadata": {
    "pycharm": {
     "name": "#%%\n",
     "is_executing": false
    }
   },
   "outputs": [],
   "source": [
    "image_size = [28,28]\n",
    "train_imgs,train_lbls,test_imgs,test_lbls = read_mnist(dim=image_size, n_train=60000, n_test=10000)\n",
    "''' \n",
    "    network          : [top] <---> [pen] ---> [hid] ---> [vis] \n",
    "                               `-> [lbl] \n",
    "    lbl : label\n",
    "    top : top\n",
    "    pen : penultimate\n",
    "    hid : hidden\n",
    "    vis : visible\n",
    "'''\n",
    "\"\"\"\n",
    "Args:\n",
    "  sizes: Dictionary of layer names and dimensions\n",
    "  image_size: Image dimension of data\n",
    "  n_labels: Number of label categories\n",
    "  batch_size: Size of mini-batch\n",
    "\"\"\"\n",
    "lbl=10\n",
    "top=2000\n",
    "pen=500\n",
    "hid=500\n",
    "vis=28*28\n",
    "sizes={\"lbl\":lbl,\"top\":top,\"pen\":pen,\"hid\":hid,\"vis\":vis}\n",
    "batch_size = 32\n",
    "n_labels = lbl"
   ]
  },
  {
   "cell_type": "code",
   "execution_count": 17,
   "metadata": {
    "pycharm": {
     "name": "#%%\n",
     "is_executing": false
    }
   },
   "outputs": [],
   "source": [
    "#crete a DBN\n",
    "\n",
    "dbn = DeepBeliefNet(sizes=sizes,image_size=image_size,n_labels=n_labels,batch_size=batch_size)\n"
   ]
  },
  {
   "cell_type": "code",
   "execution_count": 18,
   "metadata": {
    "pycharm": {
     "name": "#%%\n",
     "is_executing": false
    }
   },
   "outputs": [
    {
     "name": "stdout",
     "text": [
      "training vis--hid\n",
      "learning CD1\n",
      "iteration=      0 recon_loss=46.0575\n",
      "iteration=      1 recon_loss=44.4501\n",
      "iteration=      2 recon_loss=44.3512\n",
      "iteration=      3 recon_loss=44.0690\n",
      "iteration=      4 recon_loss=43.7140\n",
      "iteration=      5 recon_loss=43.5212\n",
      "iteration=      6 recon_loss=44.1441\n",
      "iteration=      7 recon_loss=43.7472\n",
      "iteration=      8 recon_loss=43.3947\n",
      "iteration=      9 recon_loss=43.8650\n",
      "training hid--pen\n",
      "learning CD1\n",
      "iteration=      0 recon_loss=8.3654\n",
      "iteration=      1 recon_loss=6.7534\n",
      "iteration=      2 recon_loss=5.7963\n",
      "iteration=      3 recon_loss=5.3435\n",
      "iteration=      4 recon_loss=4.8814\n",
      "iteration=      5 recon_loss=4.6559\n",
      "iteration=      6 recon_loss=4.3784\n",
      "iteration=      7 recon_loss=4.2273\n",
      "iteration=      8 recon_loss=4.0183\n",
      "iteration=      9 recon_loss=3.7989\n",
      "training pen+lbl--top\n",
      "learning CD1\n",
      "iteration=      0 recon_loss=288.6026\n",
      "iteration=      1 recon_loss=288.5725\n",
      "iteration=      2 recon_loss=289.1702\n",
      "iteration=      3 recon_loss=289.1702\n",
      "iteration=      4 recon_loss=290.6205\n",
      "iteration=      5 recon_loss=290.6205\n",
      "iteration=      6 recon_loss=289.9366\n",
      "iteration=      7 recon_loss=287.6190\n",
      "iteration=      8 recon_loss=288.6176\n",
      "iteration=      9 recon_loss=289.5581\n"
     ],
     "output_type": "stream"
    }
   ],
   "source": [
    "#train the dbn\n",
    "n_iterations =10\n",
    "dbn.train_greedylayerwise(vis_trainset=train_imgs,lbl_trainset=train_lbls,n_iterations=n_iterations)"
   ]
  },
  {
   "cell_type": "code",
   "execution_count": 19,
   "metadata": {
    "pycharm": {
     "name": "#%%\n",
     "is_executing": false
    }
   },
   "outputs": [
    {
     "data": {
      "text/plain": "<Figure size 432x288 with 1 Axes>",
      "image/png": "[encoded data removed]"
     },
     "metadata": {
      "needs_background": "light"
     },
     "output_type": "display_data"
    },
    {
     "data": {
      "text/plain": "<Figure size 432x288 with 1 Axes>",
      "image/png": "[encoded data removed]"
     },
     "metadata": {
      "needs_background": "light"
     },
     "output_type": "display_data"
    }
   ],
   "source": [
    "#show the errors of first two RBMs\n",
    "x=[i+1 for i in range(n_iterations)]\n",
    "plt.ylabel(\"MSE\")\n",
    "plt.xlabel(\"Epoch\")\n",
    "plt.plot(x,dbn.vis_hid_errors)\n",
    "plt.title(\"vis--hid errors\")\n",
    "plt.show()\n",
    "plt.ylabel(\"MSE\")\n",
    "plt.xlabel(\"Epoch\")\n",
    "plt.plot(x,dbn.hid_pen_errors)\n",
    "plt.title(\"hid--pen errors\")\n",
    "plt.show()"
   ]
  },
  {
   "cell_type": "code",
   "execution_count": 20,
   "metadata": {
    "pycharm": {
     "is_executing": false
    }
   },
   "outputs": [
    {
     "name": "stdout",
     "text": [
      "drive the network bottom to top\n",
      "vis--hid\n",
      "hid--pen\n",
      "pen+lbl--top\n",
      "pen+lbl--top\n",
      "pen+lbl--top\n",
      "pen+lbl--top\n",
      "pen+lbl--top\n",
      "pen+lbl--top\n",
      "pen+lbl--top\n",
      "pen+lbl--top\n",
      "pen+lbl--top\n",
      "pen+lbl--top\n",
      "pen+lbl--top\n",
      "pen+lbl--top\n",
      "pen+lbl--top\n",
      "pen+lbl--top\n",
      "pen+lbl--top\n",
      "accuracy = 10.10%\n"
     ],
     "output_type": "stream"
    }
   ],
   "source": [
    "dbn.recognize(test_imgs,test_lbls)"
   ]
  },
  {
   "cell_type": "code",
   "execution_count": 21,
   "outputs": [
    {
     "name": "stdout",
     "text": [
      "[array([3, 3, 3, ..., 3, 3, 3]), array([3, 3, 3, ..., 3, 3, 3]), array([3, 3, 3, ..., 3, 3, 3]), array([3, 3, 3, ..., 3, 3, 3]), array([3, 3, 3, ..., 3, 3, 3]), array([3, 3, 3, ..., 3, 3, 3]), array([3, 3, 3, ..., 3, 3, 3]), array([3, 3, 3, ..., 3, 3, 3]), array([3, 3, 3, ..., 3, 3, 3]), array([3, 3, 3, ..., 3, 3, 3]), array([3, 3, 3, ..., 3, 3, 3]), array([3, 3, 3, ..., 3, 3, 3]), array([3, 3, 3, ..., 3, 3, 3]), array([3, 3, 3, ..., 3, 3, 3]), array([3, 3, 3, ..., 3, 3, 3])]\n"
     ],
     "output_type": "stream"
    }
   ],
   "source": [
    "print(dbn.label_log)\n",
    "\n",
    "\n"
   ],
   "metadata": {
    "collapsed": false,
    "pycharm": {
     "name": "#%%\n",
     "is_executing": false
    }
   }
  }
 ],
 "metadata": {
  "kernelspec": {
   "display_name": "Python 3",
   "language": "python",
   "name": "python3"
  },
  "language_info": {
   "codemirror_mode": {
    "name": "ipython",
    "version": 3
   },
   "file_extension": ".py",
   "mimetype": "text/x-python",
   "name": "python",
   "nbconvert_exporter": "python",
   "pygments_lexer": "ipython3",
   "version": "3.7.4"
  },
  "pycharm": {
   "stem_cell": {
    "cell_type": "raw",
    "source": [],
    "metadata": {
     "collapsed": false
    }
   }
  }
 },
 "nbformat": 4,
 "nbformat_minor": 1
}