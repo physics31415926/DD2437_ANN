{
 "cells": [
  {
   "cell_type": "code",
   "execution_count": 1,
   "metadata": {
    "pycharm": {
     "name": "#%%\n"
    }
   },
   "outputs": [],
   "source": [
    "from util import *\n",
    "from rbm import RestrictedBoltzmannMachine \n",
    "from dbn import DeepBeliefNet\n",
    "import matplotlib.pyplot as plt"
   ]
  },
  {
   "cell_type": "code",
   "execution_count": 2,
   "metadata": {
    "pycharm": {
     "name": "#%%\n"
    }
   },
   "outputs": [],
   "source": [
    "image_size = [28,28]\n",
    "train_imgs,train_lbls,test_imgs,test_lbls = read_mnist(dim=image_size, n_train=60000, n_test=10000)\n",
    "''' \n",
    "    network          : [top] <---> [pen] ---> [hid] ---> [vis] \n",
    "                               `-> [lbl] \n",
    "    lbl : label\n",
    "    top : top\n",
    "    pen : penultimate\n",
    "    hid : hidden\n",
    "    vis : visible\n",
    "'''\n",
    "\"\"\"\n",
    "Args:\n",
    "  sizes: Dictionary of layer names and dimensions\n",
    "  image_size: Image dimension of data\n",
    "  n_labels: Number of label categories\n",
    "  batch_size: Size of mini-batch\n",
    "\"\"\"\n",
    "lbl=10\n",
    "top=2000\n",
    "pen=500\n",
    "hid=500\n",
    "vis=28*28\n",
    "sizes={\"lbl\":lbl,\"top\":top,\"pen\":pen,\"hid\":hid,\"vis\":vis}\n",
    "batch_size = 32\n",
    "n_labels = lbl"
   ]
  },
  {
   "cell_type": "code",
   "execution_count": 3,
   "metadata": {
    "pycharm": {
     "name": "#%%\n"
    }
   },
   "outputs": [],
   "source": [
    "#crete a DBN\n",
    "\n",
    "dbn = DeepBeliefNet(sizes=sizes,image_size=image_size,n_labels=n_labels,batch_size=batch_size)\n"
   ]
  },
  {
   "cell_type": "code",
   "execution_count": null,
   "metadata": {
    "pycharm": {
     "name": "#%%\n"
    }
   },
   "outputs": [
    {
     "name": "stdout",
     "output_type": "stream",
     "text": [
      "training vis--hid\n",
      "learning CD1\n",
      "iteration=      0 recon_loss=46.1773\n",
      "iteration=      1 recon_loss=45.9975\n",
      "iteration=      2 recon_loss=45.0487\n",
      "iteration=      3 recon_loss=45.1432\n",
      "iteration=      4 recon_loss=44.0113\n",
      "iteration=      5 recon_loss=44.3668\n",
      "iteration=      6 recon_loss=44.9406\n",
      "iteration=      7 recon_loss=43.5220\n",
      "iteration=      8 recon_loss=43.7347\n",
      "iteration=      9 recon_loss=43.5063\n",
      "training hid--pen\n",
      "learning CD1\n",
      "iteration=      0 recon_loss=0.0001\n",
      "iteration=      1 recon_loss=0.0001\n",
      "iteration=      2 recon_loss=0.0001\n",
      "iteration=      3 recon_loss=0.0001\n",
      "iteration=      4 recon_loss=0.0001\n",
      "iteration=      5 recon_loss=0.0001\n",
      "iteration=      6 recon_loss=0.0000\n",
      "iteration=      7 recon_loss=0.0000\n",
      "iteration=      8 recon_loss=0.0000\n",
      "iteration=      9 recon_loss=0.0001\n",
      "training pen+lbl--top\n",
      "learning CD1\n"
     ]
    },
    {
     "name": "stderr",
     "output_type": "stream",
     "text": [
      "/Users/physics/PycharmProjects/DD2437_ANN/Lab4/code/util.py:29: RuntimeWarning: overflow encountered in exp\n",
      "  expsup = np.exp(support-np.sum(support,axis=1)[:,None])\n",
      "/Users/physics/PycharmProjects/DD2437_ANN/Lab4/code/util.py:30: RuntimeWarning: invalid value encountered in true_divide\n",
      "  return expsup / np.sum(expsup,axis=1)[:,None]\n",
      "/Users/physics/PycharmProjects/DD2437_ANN/Lab4/code/util.py:60: RuntimeWarning: invalid value encountered in greater_equal\n",
      "  activations[range(probabilities.shape[0]),np.argmax((cumsum >= rand),axis=1)] = 1\n"
     ]
    },
    {
     "name": "stdout",
     "output_type": "stream",
     "text": [
      "iteration=      0 recon_loss=2.0286\n",
      "iteration=      1 recon_loss=3.6045\n",
      "iteration=      2 recon_loss=2.8027\n",
      "iteration=      3 recon_loss=3.6044\n",
      "iteration=      4 recon_loss=4.0297\n",
      "iteration=      5 recon_loss=4.1386\n",
      "iteration=      6 recon_loss=2.0000\n",
      "iteration=      7 recon_loss=4.4058\n"
     ]
    }
   ],
   "source": [
    "#train the dbn\n",
    "n_iterations =10\n",
    "dbn.train_greedylayerwise(vis_trainset=train_imgs,lbl_trainset=train_lbls,n_iterations=n_iterations)"
   ]
  },
  {
   "cell_type": "code",
   "execution_count": null,
   "metadata": {
    "pycharm": {
     "name": "#%%\n"
    }
   },
   "outputs": [],
   "source": [
    "#show the errors of first two RBMs\n",
    "x=[i+1 for i in range(n_iterations)]\n",
    "plt.ylabel(\"MSE\")\n",
    "plt.xlabel(\"Epoch\")\n",
    "plt.plot(x,dbn.vis_hid_errors)\n",
    "plt.title(\"vis--hid errors\")\n",
    "plt.show()\n",
    "plt.ylabel(\"MSE\")\n",
    "plt.xlabel(\"Epoch\")\n",
    "plt.plot(x,dbn.hid_pen_errors)\n",
    "plt.title(\"hid--pen errors\")\n",
    "plt.show()\n"
   ]
  },
  {
   "cell_type": "code",
   "execution_count": null,
   "metadata": {},
   "outputs": [],
   "source": []
  }
 ],
 "metadata": {
  "kernelspec": {
   "display_name": "Python 3",
   "language": "python",
   "name": "python3"
  },
  "language_info": {
   "codemirror_mode": {
    "name": "ipython",
    "version": 3
   },
   "file_extension": ".py",
   "mimetype": "text/x-python",
   "name": "python",
   "nbconvert_exporter": "python",
   "pygments_lexer": "ipython3",
   "version": "3.7.4"
  },
  "pycharm": {
   "stem_cell": {
    "cell_type": "raw",
    "metadata": {
     "collapsed": false
    },
    "source": []
   }
  }
 },
 "nbformat": 4,
 "nbformat_minor": 1
}
