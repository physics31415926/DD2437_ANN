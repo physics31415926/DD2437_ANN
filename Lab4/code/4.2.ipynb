{
 "cells": [
  {
   "cell_type": "code",
   "execution_count": 1,
   "metadata": {
    "pycharm": {
     "name": "#%%\n",
     "is_executing": false
    }
   },
   "outputs": [],
   "source": [
    "from util import *\n",
    "from rbm import RestrictedBoltzmannMachine \n",
    "from dbn import DeepBeliefNet\n",
    "import matplotlib.pyplot as plt"
   ]
  },
  {
   "cell_type": "code",
   "execution_count": 2,
   "metadata": {
    "pycharm": {
     "name": "#%%\n",
     "is_executing": false
    }
   },
   "outputs": [],
   "source": [
    "image_size = [28,28]\n",
    "train_imgs,train_lbls,test_imgs,test_lbls = read_mnist(dim=image_size, n_train=60000, n_test=10000)\n",
    "''' \n",
    "    network          : [top] <---> [pen] ---> [hid] ---> [vis] \n",
    "                               `-> [lbl] \n",
    "    lbl : label\n",
    "    top : top\n",
    "    pen : penultimate\n",
    "    hid : hidden\n",
    "    vis : visible\n",
    "'''\n",
    "\"\"\"\n",
    "Args:\n",
    "  sizes: Dictionary of layer names and dimensions\n",
    "  image_size: Image dimension of data\n",
    "  n_labels: Number of label categories\n",
    "  batch_size: Size of mini-batch\n",
    "\"\"\"\n",
    "lbl=10\n",
    "top=2000\n",
    "pen=500\n",
    "hid=500\n",
    "vis=28*28\n",
    "sizes={\"lbl\":lbl,\"top\":top,\"pen\":pen,\"hid\":hid,\"vis\":vis}\n",
    "batch_size = 32\n",
    "n_labels = lbl"
   ]
  },
  {
   "cell_type": "code",
   "execution_count": 3,
   "metadata": {
    "pycharm": {
     "name": "#%%\n",
     "is_executing": false
    }
   },
   "outputs": [],
   "source": [
    "#crete a DBN\n",
    "\n",
    "dbn = DeepBeliefNet(sizes=sizes,image_size=image_size,n_labels=n_labels,batch_size=batch_size)\n"
   ]
  },
  {
   "cell_type": "code",
   "execution_count": 4,
   "metadata": {
    "pycharm": {
     "name": "#%%\n",
     "is_executing": false
    }
   },
   "outputs": [
    {
     "name": "stdout",
     "text": [
      "training vis--hid\n",
      "learning CD1\n",
      "iteration=      0 recon_loss=46.5658\n",
      "iteration=      1 recon_loss=44.3378\n",
      "iteration=      2 recon_loss=44.5881\n",
      "iteration=      3 recon_loss=44.3319\n",
      "iteration=      4 recon_loss=44.0113\n",
      "iteration=      5 recon_loss=43.7477\n",
      "iteration=      6 recon_loss=42.9697\n",
      "iteration=      7 recon_loss=43.2555\n",
      "iteration=      8 recon_loss=43.3884\n",
      "iteration=      9 recon_loss=42.9638\n",
      "training hid--pen\n",
      "learning CD1\n",
      "iteration=      0 recon_loss=8.7883\n",
      "iteration=      1 recon_loss=7.2759\n",
      "iteration=      2 recon_loss=6.4062\n",
      "iteration=      3 recon_loss=5.7744\n",
      "iteration=      4 recon_loss=5.3304\n",
      "iteration=      5 recon_loss=5.0833\n",
      "iteration=      6 recon_loss=4.8310\n",
      "iteration=      7 recon_loss=4.7027\n",
      "iteration=      8 recon_loss=4.4300\n",
      "iteration=      9 recon_loss=4.3602\n",
      "training pen+lbl--top\n",
      "learning CD1\n",
      "iteration=      0 recon_loss=272.3102\n",
      "iteration=      1 recon_loss=276.2466\n",
      "iteration=      2 recon_loss=278.5277\n",
      "iteration=      3 recon_loss=277.3897\n",
      "iteration=      4 recon_loss=277.3897\n",
      "iteration=      5 recon_loss=277.9382\n",
      "iteration=      6 recon_loss=276.3906\n",
      "iteration=      7 recon_loss=276.9391\n",
      "iteration=      8 recon_loss=276.9391\n",
      "iteration=      9 recon_loss=276.9391\n"
     ],
     "output_type": "stream"
    },
    {
     "name": "stderr",
     "text": [
      "/Users/physics/PycharmProjects/DD2437_ANN/Lab4/code/util.py:15: RuntimeWarning: overflow encountered in exp\n",
      "  on_probabilities = 1. / (1. + np.exp(-support))\n"
     ],
     "output_type": "stream"
    }
   ],
   "source": [
    "#train the dbn\n",
    "n_iterations =10\n",
    "dbn.train_greedylayerwise(vis_trainset=train_imgs,lbl_trainset=train_lbls,n_iterations=n_iterations)"
   ]
  },
  {
   "cell_type": "code",
   "execution_count": 5,
   "metadata": {
    "pycharm": {
     "name": "#%%\n",
     "is_executing": false
    }
   },
   "outputs": [
    {
     "data": {
      "text/plain": "<Figure size 432x288 with 1 Axes>",
      "image/png": "[encoded data removed]"
     },
     "metadata": {
      "needs_background": "light"
     },
     "output_type": "display_data"
    },
    {
     "data": {
      "text/plain": "<Figure size 432x288 with 1 Axes>",
      "image/png": "[encoded data removed]"
     },
     "metadata": {
      "needs_background": "light"
     },
     "output_type": "display_data"
    }
   ],
   "source": [
    "#show the errors of first two RBMs\n",
    "x=[i+1 for i in range(n_iterations)]\n",
    "plt.ylabel(\"MSE\")\n",
    "plt.xlabel(\"Epoch\")\n",
    "plt.plot(x,dbn.vis_hid_errors)\n",
    "plt.title(\"vis--hid errors\")\n",
    "plt.show()\n",
    "plt.ylabel(\"MSE\")\n",
    "plt.xlabel(\"Epoch\")\n",
    "plt.plot(x,dbn.hid_pen_errors)\n",
    "plt.title(\"hid--pen errors\")\n",
    "plt.show()"
   ]
  },
  {
   "cell_type": "code",
   "execution_count": 7,
   "metadata": {
    "pycharm": {
     "is_executing": false
    }
   },
   "outputs": [
    {
     "name": "stdout",
     "text": [
      "[]\n",
      "[]\n"
     ],
     "output_type": "stream"
    }
   ],
   "source": [
    "print(dbn.label_log)\n",
    "print(dbn.label_log)\n"
   ]
  }
 ],
 "metadata": {
  "kernelspec": {
   "display_name": "Python 3",
   "language": "python",
   "name": "python3"
  },
  "language_info": {
   "codemirror_mode": {
    "name": "ipython",
    "version": 3
   },
   "file_extension": ".py",
   "mimetype": "text/x-python",
   "name": "python",
   "nbconvert_exporter": "python",
   "pygments_lexer": "ipython3",
   "version": "3.7.4"
  },
  "pycharm": {
   "stem_cell": {
    "cell_type": "raw",
    "source": [],
    "metadata": {
     "collapsed": false
    }
   }
  }
 },
 "nbformat": 4,
 "nbformat_minor": 1
}