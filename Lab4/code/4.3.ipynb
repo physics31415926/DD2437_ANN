{
 "cells": [
  {
   "cell_type": "code",
   "execution_count": 6,
   "metadata": {},
   "outputs": [
    {
     "name": "stdout",
     "output_type": "stream",
     "text": [
      "\n",
      "training wake-sleep..\n",
      "loaded rbm[vis--hid] from trained_dbn\n",
      "loaded rbm[hid--pen] from trained_dbn\n",
      "loaded rbm[pen+lbl--top] from trained_dbn\n",
      "drive the network bottom to top\n",
      "vis--hid\n",
      "hid--pen\n",
      "pen+lbl--top\n",
      "pen+lbl--top\n",
      "pen+lbl--top\n",
      "pen+lbl--top\n",
      "pen+lbl--top\n",
      "pen+lbl--top\n",
      "pen+lbl--top\n",
      "pen+lbl--top\n",
      "pen+lbl--top\n",
      "pen+lbl--top\n",
      "pen+lbl--top\n",
      "pen+lbl--top\n",
      "pen+lbl--top\n",
      "pen+lbl--top\n",
      "pen+lbl--top\n",
      "accuracy = 10.49%\n",
      "drive the network bottom to top\n",
      "vis--hid\n",
      "hid--pen\n",
      "pen+lbl--top\n",
      "pen+lbl--top\n",
      "pen+lbl--top\n",
      "pen+lbl--top\n",
      "pen+lbl--top\n",
      "pen+lbl--top\n",
      "pen+lbl--top\n",
      "pen+lbl--top\n",
      "pen+lbl--top\n",
      "pen+lbl--top\n",
      "pen+lbl--top\n",
      "pen+lbl--top\n",
      "pen+lbl--top\n",
      "pen+lbl--top\n",
      "pen+lbl--top\n",
      "accuracy = 10.20%\n"
     ]
    }
   ],
   "source": [
    "from util import *\n",
    "from rbm import RestrictedBoltzmannMachine \n",
    "from dbn import DeepBeliefNet\n",
    "import numpy as np\n",
    "\n",
    "image_size = [28,28]\n",
    "train_imgs,train_lbls,test_imgs,test_lbls = read_mnist(dim=image_size, n_train=60000, n_test=10000)\n",
    "\n",
    "dbn = DeepBeliefNet(sizes={\"vis\":image_size[0]*image_size[1], \"hid\":500, \"pen\":500, \"top\":2000, \"lbl\":10},\n",
    "                    image_size=image_size,\n",
    "                    n_labels=10,\n",
    "                    batch_size=10\n",
    ")\n",
    "\n",
    "dbn.train_wakesleep_finetune(vis_trainset=train_imgs, lbl_trainset=train_lbls, n_iterations=2000)\n",
    "\n",
    "dbn.recognize(train_imgs, train_lbls)\n",
    "    \n",
    "dbn.recognize(test_imgs, test_lbls)\n",
    "    \n",
    "# for digit in range(10):\n",
    "#     digit_1hot = np.zeros(shape=(1,10))\n",
    "#     digit_1hot[0,digit] = 1\n",
    "#     dbn.generate(digit_1hot, name=\"dbn\")"
   ]
  },
  {
   "cell_type": "code",
   "execution_count": null,
   "metadata": {},
   "outputs": [],
   "source": []
  }
 ],
 "metadata": {
  "kernelspec": {
   "display_name": "Python 3",
   "language": "python",
   "name": "python3"
  },
  "language_info": {
   "codemirror_mode": {
    "name": "ipython",
    "version": 3
   },
   "file_extension": ".py",
   "mimetype": "text/x-python",
   "name": "python",
   "nbconvert_exporter": "python",
   "pygments_lexer": "ipython3",
   "version": "3.7.3"
  }
 },
 "nbformat": 4,
 "nbformat_minor": 2
}
