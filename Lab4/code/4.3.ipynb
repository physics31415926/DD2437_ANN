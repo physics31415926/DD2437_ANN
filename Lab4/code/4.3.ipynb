{
 "cells": [
  {
   "cell_type": "code",
   "execution_count": 1,
   "metadata": {},
   "outputs": [
    {
     "name": "stdout",
     "output_type": "stream",
     "text": [
      "loaded rbm[vis--hid] from trained_rbm\n",
      "loaded rbm[hid--pen] from trained_rbm\n",
      "loaded rbm[pen+lbl--top] from trained_rbm\n",
      "\n",
      "training wake-sleep..\n",
      "iteration=      0\n",
      "iteration=   2000\n",
      "iteration=   4000\n",
      "drive the network bottom to top\n",
      "vis--hid\n",
      "hid--pen\n",
      "pen+lbl--top\n",
      "pen+lbl--top\n",
      "pen+lbl--top\n",
      "pen+lbl--top\n",
      "pen+lbl--top\n",
      "pen+lbl--top\n",
      "pen+lbl--top\n",
      "pen+lbl--top\n",
      "pen+lbl--top\n",
      "pen+lbl--top\n",
      "pen+lbl--top\n",
      "pen+lbl--top\n",
      "pen+lbl--top\n",
      "pen+lbl--top\n",
      "pen+lbl--top\n",
      "accuracy = 85.60%\n",
      "drive the network bottom to top\n",
      "vis--hid\n",
      "hid--pen\n",
      "pen+lbl--top\n",
      "pen+lbl--top\n",
      "pen+lbl--top\n",
      "pen+lbl--top\n",
      "pen+lbl--top\n",
      "pen+lbl--top\n",
      "pen+lbl--top\n",
      "pen+lbl--top\n",
      "pen+lbl--top\n",
      "pen+lbl--top\n",
      "pen+lbl--top\n",
      "pen+lbl--top\n",
      "pen+lbl--top\n",
      "pen+lbl--top\n",
      "pen+lbl--top\n",
      "accuracy = 85.51%\n"
     ]
    }
   ],
   "source": [
    "from util import *\n",
    "from rbm import RestrictedBoltzmannMachine \n",
    "from dbn import DeepBeliefNet\n",
    "import numpy as np\n",
    "\n",
    "image_size = [28,28]\n",
    "train_imgs,train_lbls,test_imgs,test_lbls = read_mnist(dim=image_size, n_train=60000, n_test=10000)\n",
    "\n",
    "dbn = DeepBeliefNet(sizes={\"vis\":image_size[0]*image_size[1], \"hid\":500, \"pen\":500, \"top\":2000, \"lbl\":10},\n",
    "                    image_size=image_size,\n",
    "                    n_labels=10,\n",
    "                    batch_size=10\n",
    ")\n",
    "\n",
    "dbn.train_greedylayerwise(vis_trainset=train_imgs, lbl_trainset=train_lbls, n_iterations=2000)\n",
    "\n",
    "dbn.train_wakesleep_finetune(vis_trainset=train_imgs, lbl_trainset=train_lbls, n_iterations=6000)\n",
    "\n",
    "dbn.recognize(train_imgs, train_lbls)\n",
    "    \n",
    "dbn.recognize(test_imgs, test_lbls)"
   ]
  },
  {
   "cell_type": "code",
   "execution_count": 3,
   "metadata": {},
   "outputs": [
    {
     "name": "stdout",
     "output_type": "stream",
     "text": [
      "From the top RBM, drive the network\n",
      "generate mp4s/dbn.generate0.mp4\n",
      "From the top RBM, drive the network\n",
      "generate mp4s/dbn.generate1.mp4\n",
      "From the top RBM, drive the network\n",
      "generate mp4s/dbn.generate2.mp4\n",
      "From the top RBM, drive the network\n",
      "generate mp4s/dbn.generate3.mp4\n",
      "From the top RBM, drive the network\n",
      "generate mp4s/dbn.generate4.mp4\n",
      "From the top RBM, drive the network\n",
      "generate mp4s/dbn.generate5.mp4\n",
      "From the top RBM, drive the network\n",
      "generate mp4s/dbn.generate6.mp4\n",
      "From the top RBM, drive the network\n",
      "generate mp4s/dbn.generate7.mp4\n",
      "From the top RBM, drive the network\n",
      "generate mp4s/dbn.generate8.mp4\n",
      "From the top RBM, drive the network\n",
      "generate mp4s/dbn.generate9.mp4\n"
     ]
    },
    {
     "data": {
      "image/png": "[encoded data removed]",
      "text/plain": [
       "<Figure size 216x216 with 1 Axes>"
      ]
     },
     "metadata": {},
     "output_type": "display_data"
    },
    {
     "data": {
      "image/png": "[encoded data removed]",
      "text/plain": [
       "<Figure size 216x216 with 1 Axes>"
      ]
     },
     "metadata": {},
     "output_type": "display_data"
    },
    {
     "data": {
      "image/png": "[encoded data removed]",
      "text/plain": [
       "<Figure size 216x216 with 1 Axes>"
      ]
     },
     "metadata": {},
     "output_type": "display_data"
    },
    {
     "data": {
      "image/png": "[encoded data removed]",
      "text/plain": [
       "<Figure size 216x216 with 1 Axes>"
      ]
     },
     "metadata": {},
     "output_type": "display_data"
    },
    {
     "data": {
      "image/png": "[encoded data removed]",
      "text/plain": [
       "<Figure size 216x216 with 1 Axes>"
      ]
     },
     "metadata": {},
     "output_type": "display_data"
    },
    {
     "data": {
      "image/png": "[encoded data removed]",
      "text/plain": [
       "<Figure size 216x216 with 1 Axes>"
      ]
     },
     "metadata": {},
     "output_type": "display_data"
    },
    {
     "data": {
      "image/png": "[encoded data removed]",
      "text/plain": [
       "<Figure size 216x216 with 1 Axes>"
      ]
     },
     "metadata": {},
     "output_type": "display_data"
    },
    {
     "data": {
      "image/png": "[encoded data removed]",
      "text/plain": [
       "<Figure size 216x216 with 1 Axes>"
      ]
     },
     "metadata": {},
     "output_type": "display_data"
    },
    {
     "data": {
      "image/png": "[encoded data removed]",
      "text/plain": [
       "<Figure size 216x216 with 1 Axes>"
      ]
     },
     "metadata": {},
     "output_type": "display_data"
    },
    {
     "data": {
      "image/png": "[encoded data removed]",
      "text/plain": [
       "<Figure size 216x216 with 1 Axes>"
      ]
     },
     "metadata": {},
     "output_type": "display_data"
    }
   ],
   "source": [
    "for digit in range(10):\n",
    "    digit_1hot = np.zeros(shape=(1,10))\n",
    "    digit_1hot[0,digit] = 1\n",
    "    dbn.generate(digit_1hot, name=\"dbn\")"
   ]
  },
  {
   "cell_type": "code",
   "execution_count": null,
   "metadata": {},
   "outputs": [],
   "source": []
  }
 ],
 "metadata": {
  "kernelspec": {
   "display_name": "Python 3",
   "language": "python",
   "name": "python3"
  },
  "language_info": {
   "codemirror_mode": {
    "name": "ipython",
    "version": 3
   },
   "file_extension": ".py",
   "mimetype": "text/x-python",
   "name": "python",
   "nbconvert_exporter": "python",
   "pygments_lexer": "ipython3",
   "version": "3.7.3"
  }
 },
 "nbformat": 4,
 "nbformat_minor": 2
}
