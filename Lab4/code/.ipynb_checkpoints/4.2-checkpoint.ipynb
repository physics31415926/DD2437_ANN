{
 "cells": [
  {
   "cell_type": "code",
   "execution_count": 1,
   "metadata": {
    "pycharm": {
     "name": "#%%\n"
    }
   },
   "outputs": [],
   "source": [
    "from util import *\n",
    "from rbm import RestrictedBoltzmannMachine \n",
    "from dbn import DeepBeliefNet\n",
    "import matplotlib.pyplot as plt"
   ]
  },
  {
   "cell_type": "code",
   "execution_count": 2,
   "metadata": {
    "pycharm": {
     "name": "#%%\n"
    }
   },
   "outputs": [],
   "source": [
    "image_size = [28,28]\n",
    "train_imgs,train_lbls,test_imgs,test_lbls = read_mnist(dim=image_size, n_train=60000, n_test=10000)\n",
    "''' \n",
    "    network          : [top] <---> [pen] ---> [hid] ---> [vis] \n",
    "                               `-> [lbl] \n",
    "    lbl : label\n",
    "    top : top\n",
    "    pen : penultimate\n",
    "    hid : hidden\n",
    "    vis : visible\n",
    "'''\n",
    "\"\"\"\n",
    "Args:\n",
    "  sizes: Dictionary of layer names and dimensions\n",
    "  image_size: Image dimension of data\n",
    "  n_labels: Number of label categories\n",
    "  batch_size: Size of mini-batch\n",
    "\"\"\"\n",
    "lbl=10\n",
    "top=2000\n",
    "pen=500\n",
    "hid=500\n",
    "vis=28*28\n",
    "sizes={\"lbl\":lbl,\"top\":top,\"pen\":pen,\"hid\":hid,\"vis\":vis}\n",
    "batch_size = 32\n",
    "n_labels = lbl"
   ]
  },
  {
   "cell_type": "code",
   "execution_count": 3,
   "metadata": {
    "pycharm": {
     "name": "#%%\n"
    }
   },
   "outputs": [],
   "source": [
    "#crete a DBN\n",
    "\n",
    "dbn = DeepBeliefNet(sizes=sizes,image_size=image_size,n_labels=n_labels,batch_size=batch_size)\n"
   ]
  },
  {
   "cell_type": "code",
   "execution_count": 4,
   "metadata": {
    "pycharm": {
     "name": "#%%\n"
    }
   },
   "outputs": [
    {
     "name": "stdout",
     "output_type": "stream",
     "text": [
      "loaded rbm[vis--hid] from trained_rbm\n",
      "loaded rbm[hid--pen] from trained_rbm\n",
      "loaded rbm[pen+lbl--top] from trained_rbm\n"
     ]
    }
   ],
   "source": [
    "#train the dbn\n",
    "n_iterations =10\n",
    "dbn.train_greedylayerwise(vis_trainset=train_imgs,lbl_trainset=train_lbls,n_iterations=n_iterations)"
   ]
  },
  {
   "cell_type": "code",
   "execution_count": null,
   "metadata": {
    "pycharm": {
     "name": "#%%\n"
    }
   },
   "outputs": [],
   "source": [
    "#show the errors of first two RBMs\n",
    "x=[i+1 for i in range(n_iterations)]\n",
    "plt.ylabel(\"MSE\")\n",
    "plt.xlabel(\"Epoch\")\n",
    "plt.plot(x,dbn.vis_hid_errors)\n",
    "plt.title(\"vis--hid errors\")\n",
    "plt.show()\n",
    "plt.ylabel(\"MSE\")\n",
    "plt.xlabel(\"Epoch\")\n",
    "plt.plot(x,dbn.hid_pen_errors)\n",
    "plt.title(\"hid--pen errors\")\n",
    "plt.show()\n"
   ]
  }
 ],
 "metadata": {
  "kernelspec": {
   "display_name": "Python 3",
   "language": "python",
   "name": "python3"
  },
  "language_info": {
   "codemirror_mode": {
    "name": "ipython",
    "version": 3
   },
   "file_extension": ".py",
   "mimetype": "text/x-python",
   "name": "python",
   "nbconvert_exporter": "python",
   "pygments_lexer": "ipython3",
   "version": "3.7.4"
  },
  "pycharm": {
   "stem_cell": {
    "cell_type": "raw",
    "metadata": {
     "collapsed": false
    },
    "source": []
   }
  }
 },
 "nbformat": 4,
 "nbformat_minor": 1
}
