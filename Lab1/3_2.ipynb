{
 "cells": [
  {
   "cell_type": "markdown",
   "metadata": {
    "collapsed": true,
    "pycharm": {
     "name": "#%% md\n"
    }
   },
   "source": [
    "3.2 Classification and regression with a two-layer perceptron\n",
    "\n",
    "\n"
   ]
  },
  {
   "cell_type": "markdown",
   "metadata": {},
   "source": [
    "Generate some data "
   ]
  },
  {
   "cell_type": "code",
   "execution_count": 1,
   "metadata": {},
   "outputs": [],
   "source": [
    "import numpy as np\n",
    "import matplotlib.pyplot as plt\n",
    "import random\n",
    "from tqdm import trange\n",
    "from abc import ABCMeta, abstractmethod\n",
    "\n",
    "def generate_data(mA=(1, 0.3), mB=(0, 0.1), sigmaA=0.2, sigmaB=0.3):\n",
    "    N=128\n",
    "    np.random.seed(100)\n",
    "    cov = np.eye(2)\n",
    "    classA1 = np.random.multivariate_normal(mA,sigmaA*sigmaA*cov,N)\n",
    "    classA2 = np.random.multivariate_normal([-1,0.3],sigmaA*sigmaA*cov,N)\n",
    "    A = np.concatenate((classA1,classA2))\n",
    "    B = np.random.multivariate_normal(mB,sigmaB*sigmaB*cov,N)\n",
    "    labels = np.concatenate((np.ones(A.shape[0]), -np.ones(B.shape[0])))\n",
    "    samples = np.concatenate((A, B))\n",
    "    permute = np.random.permutation(A.shape[0] + B.shape[0])\n",
    "    return samples[permute, :], labels[permute]"
   ]
  },
  {
   "cell_type": "markdown",
   "metadata": {},
   "source": [
    "Def of NN"
   ]
  },
  {
   "cell_type": "code",
   "execution_count": 2,
   "metadata": {},
   "outputs": [],
   "source": [
    "class Parameter(object):\n",
    "    def __init__(self, data, requires_grad, skip_decay=False):\n",
    "        self.data = data\n",
    "        self.grad = None\n",
    "        self.skip_decay = skip_decay\n",
    "        self.requires_grad = requires_grad\n",
    "\n",
    "    @property\n",
    "    def T(self):\n",
    "        return self.data.T\n",
    "\n",
    "class SGD(object):\n",
    "    def __init__(self, parameters, lr, decay=0):\n",
    "        self.parameters = [p for p in parameters if p.requires_grad]   \n",
    "        self.lr = lr\n",
    "        self.decay_rate = 1.0 - decay\n",
    "\n",
    "    def update(self):\n",
    "        for p in self.parameters:\n",
    "            if self.decay_rate < 1 and not p.skip_decay: p.data *= self.decay_rate\n",
    "           # print(\"data\",p.data,\"grad\",p.grad)\n",
    "            p.data -= self.lr * p.grad\n",
    "\n",
    "\n",
    "class MSE:\n",
    "    def __init__(self):\n",
    "        pass\n",
    "    def gradient(self):\n",
    "        return self.a - self.y\n",
    "    \n",
    "    def __call__(self, output, target, requires_acc=True):\n",
    "        self.a = output\n",
    "        self.y = np.reshape(target,(-1,1))\n",
    "        loss = 0.5*np.multiply(self.a-self.y,self.a-self.y).mean()\n",
    "        if requires_acc:\n",
    "            acc = np.sum(np.sign(output)==self.y)/output.shape[0]\n",
    "            return loss,acc\n",
    "        return loss\n",
    "\n",
    "class Layer():\n",
    "    @abstractmethod\n",
    "    def forward(self, *args):\n",
    "        pass\n",
    "\n",
    "    @abstractmethod\n",
    "    def backward(self, *args):\n",
    "        pass\n",
    "\n",
    "class Tanh(Layer):\n",
    "    def forward(self, x):\n",
    "        ex = np.exp(x)\n",
    "        esx = np.exp(-x)\n",
    "        self.y = (ex - esx) / (ex + esx)\n",
    "        return self.y\n",
    "\n",
    "    def backward(self, eta):\n",
    "        return np.einsum('...,...,...->...', 1 - self.y, 1 + self.y, eta, optimize=True)\n",
    "\n",
    "class Linear(Layer):\n",
    "    def __init__(self, shape, requires_grad=True, bias=True, **kwargs):\n",
    "        '''\n",
    "        shape = (in_size, out_size)\n",
    "        '''\n",
    "        W = np.random.randn(*shape) * (2 / shape[0]**0.5)\n",
    "      #  print(W.shape)\n",
    "        self.W = Parameter(W, requires_grad)\n",
    "        self.b = Parameter(np.zeros(shape[-1]), requires_grad) if bias else None\n",
    "        self.require_grad = requires_grad\n",
    "\n",
    "    def forward(self, x):\n",
    "        if self.require_grad: self.x = x\n",
    "        out = np.dot(x, self.W.data)\n",
    "        if self.b is not None: out = out + self.b.data\n",
    "        return out\n",
    "\n",
    "    def backward(self, eta):\n",
    "       if self.require_grad:\n",
    "            batch_size = eta.shape[0]\n",
    "            self.W.grad = np.dot(self.x.T, eta) / batch_size\n",
    "            if self.b is not None: self.b.grad = np.sum(eta, axis=0) / batch_size\n",
    "       return np.dot(eta, self.W.T)\n",
    "class Net(Layer):\n",
    "    def __init__(self, layer_configures):\n",
    "        self.layers = []\n",
    "        self.parameters=[]\n",
    "        for config in layer_configures:\n",
    "            self.layers.append(self.createLayer(config))\n",
    "\n",
    "    def createLayer(self, config):\n",
    "        return self.getDefaultLayer(config)\n",
    "\n",
    "    def getDefaultLayer(self, config):\n",
    "        t = config['type']\n",
    "        if t == 'linear':\n",
    "            layer = Linear(**config)\n",
    "            self.parameters.append(layer.W)\n",
    "            if layer.b is not None: self.parameters.append(layer.b)\n",
    "        elif t == 'tanh':\n",
    "            layer = Tanh()\n",
    "        return layer\n",
    "\n",
    "    def forward(self, x):\n",
    "        for layer in self.layers:\n",
    "            x = layer.forward(x)\n",
    "        return x\n",
    "    \n",
    "    def backward(self, eta):\n",
    "        for layer in self.layers[::-1]:\n",
    "            eta = layer.backward(eta)\n",
    "        return eta\n",
    "    \n",
    "    def train(self,X,Y,optimizer,batch_size=16,epochs=500,loss=MSE()):\n",
    "        n = len(Y)\n",
    "        for epoch in trange(epochs):\n",
    "            i = 0 \n",
    "            while i<= n-batch_size:\n",
    "                x,y=X[i:i+batch_size,],Y[i:i+batch_size,]\n",
    "                i+=batch_size\n",
    "                output = self.forward(x)\n",
    "                batch_loss, batch_acc = loss(output,y)\n",
    "                eta = loss.gradient()\n",
    "                self.backward(eta)\n",
    "                optimizer.update()\n",
    "                if epoch % 100==0:\n",
    "                    print(\"epoch: %d, batch: %5d, batch_acc:    %.2f,batch loss: %.2f\" % \\\n",
    "                    (epoch, i/batch_size,batch_acc*100,batch_loss))"
   ]
  },
  {
   "cell_type": "code",
   "execution_count": 3,
   "metadata": {},
   "outputs": [
    {
     "name": "stdout",
     "output_type": "stream",
     "text": [
      "[[ True  True  True]]\n"
     ]
    }
   ],
   "source": [
    "M=np.array([1,2,3]).reshape(1,3)\n",
    "D=np.array([1,2,3]).reshape(1,3)\n",
    "print(M==D)"
   ]
  },
  {
   "cell_type": "code",
   "execution_count": 4,
   "metadata": {},
   "outputs": [
    {
     "data": {
      "image/png": "[encoded data removed]",
      "text/plain": [
       "<Figure size 432x288 with 1 Axes>"
      ]
     },
     "metadata": {
      "needs_background": "light"
     },
     "output_type": "display_data"
    },
    {
     "name": "stderr",
     "output_type": "stream",
     "text": [
      "\r",
      "  0%|                                                                                                                         | 0/500 [00:00<?, ?it/s]"
     ]
    },
    {
     "name": "stdout",
     "output_type": "stream",
     "text": [
      "epoch: 0, batch:     1, batch_acc:    50.00,batch loss: 0.77\n",
      "epoch: 0, batch:     2, batch_acc:    43.75,batch loss: 0.98\n",
      "epoch: 0, batch:     3, batch_acc:    56.25,batch loss: 0.81\n",
      "epoch: 0, batch:     4, batch_acc:    62.50,batch loss: 0.56\n",
      "epoch: 0, batch:     5, batch_acc:    37.50,batch loss: 1.03\n",
      "epoch: 0, batch:     6, batch_acc:    62.50,batch loss: 0.66\n",
      "epoch: 0, batch:     7, batch_acc:    50.00,batch loss: 0.86\n",
      "epoch: 0, batch:     8, batch_acc:    62.50,batch loss: 0.57\n",
      "epoch: 0, batch:     9, batch_acc:    37.50,batch loss: 1.02\n",
      "epoch: 0, batch:    10, batch_acc:    43.75,batch loss: 0.95\n",
      "epoch: 0, batch:    11, batch_acc:    68.75,batch loss: 0.46\n",
      "epoch: 0, batch:    12, batch_acc:    62.50,batch loss: 0.60\n",
      "epoch: 0, batch:    13, batch_acc:    68.75,batch loss: 0.63\n",
      "epoch: 0, batch:    14, batch_acc:    56.25,batch loss: 0.74\n",
      "epoch: 0, batch:    15, batch_acc:    43.75,batch loss: 0.92\n",
      "epoch: 0, batch:    16, batch_acc:    37.50,batch loss: 0.94\n",
      "epoch: 0, batch:    17, batch_acc:    50.00,batch loss: 0.74\n",
      "epoch: 0, batch:    18, batch_acc:    50.00,batch loss: 0.78\n",
      "epoch: 0, batch:    19, batch_acc:    50.00,batch loss: 0.83\n",
      "epoch: 0, batch:    20, batch_acc:    68.75,batch loss: 0.59\n",
      "epoch: 0, batch:    21, batch_acc:    37.50,batch loss: 1.00\n",
      "epoch: 0, batch:    22, batch_acc:    56.25,batch loss: 0.78\n",
      "epoch: 0, batch:    23, batch_acc:    56.25,batch loss: 0.67\n",
      "epoch: 0, batch:    24, batch_acc:    37.50,batch loss: 0.93\n"
     ]
    },
    {
     "name": "stderr",
     "output_type": "stream",
     "text": [
      " 39%|███████████████████████████████████████████▌                                                                   | 196/500 [00:02<00:03, 91.09it/s]"
     ]
    },
    {
     "name": "stdout",
     "output_type": "stream",
     "text": [
      "epoch: 200, batch:     1, batch_acc:    43.75,batch loss: 1.12\n",
      "epoch: 200, batch:     2, batch_acc:    12.50,batch loss: 1.74\n",
      "epoch: 200, batch:     3, batch_acc:    37.50,batch loss: 1.24\n",
      "epoch: 200, batch:     4, batch_acc:    31.25,batch loss: 1.37\n",
      "epoch: 200, batch:     5, batch_acc:    18.75,batch loss: 1.61\n",
      "epoch: 200, batch:     6, batch_acc:    31.25,batch loss: 1.37\n",
      "epoch: 200, batch:     7, batch_acc:    31.25,batch loss: 1.37\n",
      "epoch: 200, batch:     8, batch_acc:    25.00,batch loss: 1.49\n",
      "epoch: 200, batch:     9, batch_acc:    37.50,batch loss: 1.24\n",
      "epoch: 200, batch:    10, batch_acc:    50.00,batch loss: 0.99\n",
      "epoch: 200, batch:    11, batch_acc:    31.25,batch loss: 1.37\n",
      "epoch: 200, batch:    12, batch_acc:    31.25,batch loss: 1.37\n",
      "epoch: 200, batch:    13, batch_acc:    31.25,batch loss: 1.37\n",
      "epoch: 200, batch:    14, batch_acc:    25.00,batch loss: 1.49\n",
      "epoch: 200, batch:    15, batch_acc:    31.25,batch loss: 1.37\n",
      "epoch: 200, batch:    16, batch_acc:    31.25,batch loss: 1.37\n",
      "epoch: 200, batch:    17, batch_acc:    43.75,batch loss: 1.12\n",
      "epoch: 200, batch:    18, batch_acc:    43.75,batch loss: 1.12\n",
      "epoch: 200, batch:    19, batch_acc:    25.00,batch loss: 1.49\n",
      "epoch: 200, batch:    20, batch_acc:    37.50,batch loss: 1.24\n",
      "epoch: 200, batch:    21, batch_acc:    43.75,batch loss: 1.12\n",
      "epoch: 200, batch:    22, batch_acc:    25.00,batch loss: 1.49\n",
      "epoch: 200, batch:    23, batch_acc:    37.50,batch loss: 1.24\n",
      "epoch: 200, batch:    24, batch_acc:    43.75,batch loss: 1.12\n"
     ]
    },
    {
     "name": "stderr",
     "output_type": "stream",
     "text": [
      " 80%|███████████████████████████████████████████████████████████████████████████████████████▌                      | 398/500 [00:04<00:00, 102.54it/s]"
     ]
    },
    {
     "name": "stdout",
     "output_type": "stream",
     "text": [
      "epoch: 400, batch:     1, batch_acc:    43.75,batch loss: 1.12\n",
      "epoch: 400, batch:     2, batch_acc:    12.50,batch loss: 1.74\n",
      "epoch: 400, batch:     3, batch_acc:    37.50,batch loss: 1.25\n",
      "epoch: 400, batch:     4, batch_acc:    31.25,batch loss: 1.37\n",
      "epoch: 400, batch:     5, batch_acc:    18.75,batch loss: 1.62\n",
      "epoch: 400, batch:     6, batch_acc:    31.25,batch loss: 1.37\n",
      "epoch: 400, batch:     7, batch_acc:    31.25,batch loss: 1.37\n",
      "epoch: 400, batch:     8, batch_acc:    25.00,batch loss: 1.49\n",
      "epoch: 400, batch:     9, batch_acc:    37.50,batch loss: 1.25\n",
      "epoch: 400, batch:    10, batch_acc:    50.00,batch loss: 1.00\n",
      "epoch: 400, batch:    11, batch_acc:    31.25,batch loss: 1.37\n",
      "epoch: 400, batch:    12, batch_acc:    31.25,batch loss: 1.37\n",
      "epoch: 400, batch:    13, batch_acc:    31.25,batch loss: 1.37\n",
      "epoch: 400, batch:    14, batch_acc:    25.00,batch loss: 1.49\n",
      "epoch: 400, batch:    15, batch_acc:    31.25,batch loss: 1.37\n",
      "epoch: 400, batch:    16, batch_acc:    31.25,batch loss: 1.37\n",
      "epoch: 400, batch:    17, batch_acc:    43.75,batch loss: 1.12\n",
      "epoch: 400, batch:    18, batch_acc:    43.75,batch loss: 1.12\n",
      "epoch: 400, batch:    19, batch_acc:    25.00,batch loss: 1.49\n",
      "epoch: 400, batch:    20, batch_acc:    37.50,batch loss: 1.25\n",
      "epoch: 400, batch:    21, batch_acc:    43.75,batch loss: 1.12\n",
      "epoch: 400, batch:    22, batch_acc:    25.00,batch loss: 1.49\n",
      "epoch: 400, batch:    23, batch_acc:    37.50,batch loss: 1.25\n",
      "epoch: 400, batch:    24, batch_acc:    43.75,batch loss: 1.12\n"
     ]
    },
    {
     "name": "stderr",
     "output_type": "stream",
     "text": [
      "100%|███████████████████████████████████████████████████████████████████████████████████████████████████████████████| 500/500 [00:05<00:00, 84.24it/s]\n"
     ]
    },
    {
     "data": {
      "image/png": "[encoded data removed]",
      "text/plain": [
       "<Figure size 432x288 with 1 Axes>"
      ]
     },
     "metadata": {
      "needs_background": "light"
     },
     "output_type": "display_data"
    }
   ],
   "source": [
    "\n",
    "X,Y = generate_data()\n",
    "for i, it in enumerate(X):\n",
    "    if Y[i] == -1:\n",
    "        plt.plot(X[i][0], X[i][1], 'r.')\n",
    "    else:\n",
    "        plt.plot(X[i][0], X[i][1], 'b.')\n",
    "plt.show()\n",
    "layers =[\n",
    "    {'type':'linear','shape':(2,6)},\n",
    "    {'type':'tanh'},\n",
    "    {'type':'linear','shape':(6,6)},\n",
    "    {'type':'tanh'},\n",
    "    {'type':'linear','shape':(6,1)},\n",
    "    {'type':'tanh'}\n",
    "]\n",
    "net = Net(layers)\n",
    "opt = SGD(net.parameters,lr=1e-3)\n",
    "net.train(X,Y,opt)\n"
   ]
  },
  {
   "cell_type": "markdown",
   "metadata": {},
   "source": [
    "1. Modify the number of hidden nodes and demonstrate the effect the size of the hidden layer has on the performance (both the mean squared error and the number/ratio of misclassifications). How many hidden nodes do you need to perfectly separate all the available data (if manageable at all given your data randomisation)?\n"
   ]
  },
  {
   "cell_type": "code",
   "execution_count": 5,
   "metadata": {},
   "outputs": [
    {
     "name": "stderr",
     "output_type": "stream",
     "text": [
      "\r",
      "  0%|                                                                                                                         | 0/500 [00:00<?, ?it/s]"
     ]
    },
    {
     "name": "stdout",
     "output_type": "stream",
     "text": [
      "epoch: 0, batch:     1, batch_acc:    37.50,batch loss: 1.12\n",
      "epoch: 0, batch:     2, batch_acc:    12.50,batch loss: 1.43\n",
      "epoch: 0, batch:     3, batch_acc:    25.00,batch loss: 1.35\n",
      "epoch: 0, batch:     4, batch_acc:    25.00,batch loss: 1.40\n",
      "epoch: 0, batch:     5, batch_acc:    6.25,batch loss: 1.51\n",
      "epoch: 0, batch:     6, batch_acc:    31.25,batch loss: 1.26\n",
      "epoch: 0, batch:     7, batch_acc:    43.75,batch loss: 0.99\n",
      "epoch: 0, batch:     8, batch_acc:    18.75,batch loss: 1.46\n",
      "epoch: 0, batch:     9, batch_acc:    31.25,batch loss: 1.26\n",
      "epoch: 0, batch:    10, batch_acc:    50.00,batch loss: 0.84\n",
      "epoch: 0, batch:    11, batch_acc:    18.75,batch loss: 1.49\n",
      "epoch: 0, batch:    12, batch_acc:    25.00,batch loss: 1.41\n",
      "epoch: 0, batch:    13, batch_acc:    25.00,batch loss: 1.27\n",
      "epoch: 0, batch:    14, batch_acc:    25.00,batch loss: 1.42\n",
      "epoch: 0, batch:    15, batch_acc:    25.00,batch loss: 1.22\n",
      "epoch: 0, batch:    16, batch_acc:    18.75,batch loss: 1.45\n",
      "epoch: 0, batch:    17, batch_acc:    31.25,batch loss: 1.35\n",
      "epoch: 0, batch:    18, batch_acc:    43.75,batch loss: 1.08\n",
      "epoch: 0, batch:    19, batch_acc:    18.75,batch loss: 1.50\n",
      "epoch: 0, batch:    20, batch_acc:    37.50,batch loss: 1.04\n",
      "epoch: 0, batch:    21, batch_acc:    37.50,batch loss: 1.11\n",
      "epoch: 0, batch:    22, batch_acc:    25.00,batch loss: 1.32\n",
      "epoch: 0, batch:    23, batch_acc:    31.25,batch loss: 1.23\n",
      "epoch: 0, batch:    24, batch_acc:    25.00,batch loss: 1.22\n"
     ]
    },
    {
     "name": "stderr",
     "output_type": "stream",
     "text": [
      " 38%|█████████████████████████████████████████▊                                                                    | 190/500 [00:01<00:03, 102.46it/s]"
     ]
    },
    {
     "name": "stdout",
     "output_type": "stream",
     "text": [
      "epoch: 200, batch:     1, batch_acc:    43.75,batch loss: 1.12\n",
      "epoch: 200, batch:     2, batch_acc:    12.50,batch loss: 1.75\n",
      "epoch: 200, batch:     3, batch_acc:    37.50,batch loss: 1.25\n",
      "epoch: 200, batch:     4, batch_acc:    31.25,batch loss: 1.37\n",
      "epoch: 200, batch:     5, batch_acc:    18.75,batch loss: 1.62\n",
      "epoch: 200, batch:     6, batch_acc:    31.25,batch loss: 1.37\n",
      "epoch: 200, batch:     7, batch_acc:    31.25,batch loss: 1.37\n",
      "epoch: 200, batch:     8, batch_acc:    25.00,batch loss: 1.50\n",
      "epoch: 200, batch:     9, batch_acc:    37.50,batch loss: 1.25\n",
      "epoch: 200, batch:    10, batch_acc:    50.00,batch loss: 1.00\n",
      "epoch: 200, batch:    11, batch_acc:    31.25,batch loss: 1.37\n",
      "epoch: 200, batch:    12, batch_acc:    31.25,batch loss: 1.37\n",
      "epoch: 200, batch:    13, batch_acc:    31.25,batch loss: 1.37\n",
      "epoch: 200, batch:    14, batch_acc:    25.00,batch loss: 1.50\n",
      "epoch: 200, batch:    15, batch_acc:    31.25,batch loss: 1.37\n",
      "epoch: 200, batch:    16, batch_acc:    31.25,batch loss: 1.37\n",
      "epoch: 200, batch:    17, batch_acc:    43.75,batch loss: 1.12\n",
      "epoch: 200, batch:    18, batch_acc:    43.75,batch loss: 1.12\n",
      "epoch: 200, batch:    19, batch_acc:    25.00,batch loss: 1.50\n",
      "epoch: 200, batch:    20, batch_acc:    37.50,batch loss: 1.25\n",
      "epoch: 200, batch:    21, batch_acc:    43.75,batch loss: 1.12\n",
      "epoch: 200, batch:    22, batch_acc:    25.00,batch loss: 1.50\n",
      "epoch: 200, batch:    23, batch_acc:    37.50,batch loss: 1.25\n",
      "epoch: 200, batch:    24, batch_acc:    43.75,batch loss: 1.12\n"
     ]
    },
    {
     "name": "stderr",
     "output_type": "stream",
     "text": [
      " 80%|███████████████████████████████████████████████████████████████████████████████████████▌                      | 398/500 [00:03<00:00, 117.52it/s]"
     ]
    },
    {
     "name": "stdout",
     "output_type": "stream",
     "text": [
      "epoch: 400, batch:     1, batch_acc:    43.75,batch loss: 1.12\n",
      "epoch: 400, batch:     2, batch_acc:    12.50,batch loss: 1.75\n",
      "epoch: 400, batch:     3, batch_acc:    37.50,batch loss: 1.25\n",
      "epoch: 400, batch:     4, batch_acc:    31.25,batch loss: 1.37\n",
      "epoch: 400, batch:     5, batch_acc:    18.75,batch loss: 1.62\n",
      "epoch: 400, batch:     6, batch_acc:    31.25,batch loss: 1.37\n",
      "epoch: 400, batch:     7, batch_acc:    31.25,batch loss: 1.37\n",
      "epoch: 400, batch:     8, batch_acc:    25.00,batch loss: 1.50\n",
      "epoch: 400, batch:     9, batch_acc:    37.50,batch loss: 1.25\n",
      "epoch: 400, batch:    10, batch_acc:    50.00,batch loss: 1.00\n",
      "epoch: 400, batch:    11, batch_acc:    31.25,batch loss: 1.37\n",
      "epoch: 400, batch:    12, batch_acc:    31.25,batch loss: 1.37\n",
      "epoch: 400, batch:    13, batch_acc:    31.25,batch loss: 1.37\n",
      "epoch: 400, batch:    14, batch_acc:    25.00,batch loss: 1.50\n",
      "epoch: 400, batch:    15, batch_acc:    31.25,batch loss: 1.37\n",
      "epoch: 400, batch:    16, batch_acc:    31.25,batch loss: 1.37\n",
      "epoch: 400, batch:    17, batch_acc:    43.75,batch loss: 1.12\n",
      "epoch: 400, batch:    18, batch_acc:    43.75,batch loss: 1.12\n",
      "epoch: 400, batch:    19, batch_acc:    25.00,batch loss: 1.50\n",
      "epoch: 400, batch:    20, batch_acc:    37.50,batch loss: 1.25\n",
      "epoch: 400, batch:    21, batch_acc:    43.75,batch loss: 1.12\n",
      "epoch: 400, batch:    22, batch_acc:    25.00,batch loss: 1.50\n",
      "epoch: 400, batch:    23, batch_acc:    37.50,batch loss: 1.25\n",
      "epoch: 400, batch:    24, batch_acc:    43.75,batch loss: 1.12\n"
     ]
    },
    {
     "name": "stderr",
     "output_type": "stream",
     "text": [
      "100%|███████████████████████████████████████████████████████████████████████████████████████████████████████████████| 500/500 [00:05<00:00, 95.69it/s]\n"
     ]
    },
    {
     "data": {
      "image/png": "[encoded data removed]",
      "text/plain": [
       "<Figure size 432x288 with 1 Axes>"
      ]
     },
     "metadata": {
      "needs_background": "light"
     },
     "output_type": "display_data"
    }
   ],
   "source": [
    "layers =[\n",
    "    {'type':'linear','shape':(2,2)},\n",
    "    {'type':'tanh'},\n",
    "    {'type':'linear','shape':(2,2)},\n",
    "    {'type':'tanh'},\n",
    "    {'type':'linear','shape':(2,1)},\n",
    "    {'type':'tanh'}\n",
    "]\n",
    "net = Net(layers)\n",
    "opt = SGD(net.parameters,lr=1e-3)\n",
    "net.train(X,Y,opt)\n"
   ]
  },
  {
   "cell_type": "code",
   "execution_count": 6,
   "metadata": {},
   "outputs": [
    {
     "name": "stderr",
     "output_type": "stream",
     "text": [
      "\r",
      "  0%|                                                                                                                         | 0/500 [00:00<?, ?it/s]"
     ]
    },
    {
     "name": "stdout",
     "output_type": "stream",
     "text": [
      "epoch: 0, batch:     1, batch_acc:    43.75,batch loss: 0.65\n",
      "epoch: 0, batch:     2, batch_acc:    56.25,batch loss: 0.60\n",
      "epoch: 0, batch:     3, batch_acc:    50.00,batch loss: 0.61\n",
      "epoch: 0, batch:     4, batch_acc:    37.50,batch loss: 0.84\n",
      "epoch: 0, batch:     5, batch_acc:    62.50,batch loss: 0.50\n",
      "epoch: 0, batch:     6, batch_acc:    37.50,batch loss: 0.77\n",
      "epoch: 0, batch:     7, batch_acc:    37.50,batch loss: 0.67\n",
      "epoch: 0, batch:     8, batch_acc:    43.75,batch loss: 0.82\n",
      "epoch: 0, batch:     9, batch_acc:    56.25,batch loss: 0.49\n",
      "epoch: 0, batch:    10, batch_acc:    50.00,batch loss: 0.57\n",
      "epoch: 0, batch:    11, batch_acc:    25.00,batch loss: 0.92\n",
      "epoch: 0, batch:    12, batch_acc:    43.75,batch loss: 0.80\n",
      "epoch: 0, batch:    13, batch_acc:    43.75,batch loss: 0.73\n",
      "epoch: 0, batch:    14, batch_acc:    43.75,batch loss: 0.74\n",
      "epoch: 0, batch:    15, batch_acc:    50.00,batch loss: 0.67\n",
      "epoch: 0, batch:    16, batch_acc:    62.50,batch loss: 0.48\n",
      "epoch: 0, batch:    17, batch_acc:    50.00,batch loss: 0.65\n",
      "epoch: 0, batch:    18, batch_acc:    50.00,batch loss: 0.63\n",
      "epoch: 0, batch:    19, batch_acc:    56.25,batch loss: 0.54\n",
      "epoch: 0, batch:    20, batch_acc:    31.25,batch loss: 0.86\n",
      "epoch: 0, batch:    21, batch_acc:    62.50,batch loss: 0.55\n",
      "epoch: 0, batch:    22, batch_acc:    43.75,batch loss: 0.78\n",
      "epoch: 0, batch:    23, batch_acc:    37.50,batch loss: 0.71\n",
      "epoch: 0, batch:    24, batch_acc:    56.25,batch loss: 0.49\n"
     ]
    },
    {
     "name": "stderr",
     "output_type": "stream",
     "text": [
      " 38%|██████████████████████████████████████████▍                                                                    | 191/500 [00:02<00:03, 91.77it/s]"
     ]
    },
    {
     "name": "stdout",
     "output_type": "stream",
     "text": [
      "epoch: 200, batch:     1, batch_acc:    43.75,batch loss: 1.08\n",
      "epoch: 200, batch:     2, batch_acc:    12.50,batch loss: 1.67\n",
      "epoch: 200, batch:     3, batch_acc:    37.50,batch loss: 1.19\n",
      "epoch: 200, batch:     4, batch_acc:    31.25,batch loss: 1.31\n",
      "epoch: 200, batch:     5, batch_acc:    18.75,batch loss: 1.55\n",
      "epoch: 200, batch:     6, batch_acc:    31.25,batch loss: 1.31\n",
      "epoch: 200, batch:     7, batch_acc:    31.25,batch loss: 1.31\n",
      "epoch: 200, batch:     8, batch_acc:    25.00,batch loss: 1.43\n",
      "epoch: 200, batch:     9, batch_acc:    37.50,batch loss: 1.19\n",
      "epoch: 200, batch:    10, batch_acc:    50.00,batch loss: 0.96\n",
      "epoch: 200, batch:    11, batch_acc:    31.25,batch loss: 1.31\n",
      "epoch: 200, batch:    12, batch_acc:    31.25,batch loss: 1.31\n",
      "epoch: 200, batch:    13, batch_acc:    31.25,batch loss: 1.31\n",
      "epoch: 200, batch:    14, batch_acc:    25.00,batch loss: 1.43\n",
      "epoch: 200, batch:    15, batch_acc:    31.25,batch loss: 1.31\n",
      "epoch: 200, batch:    16, batch_acc:    31.25,batch loss: 1.31\n",
      "epoch: 200, batch:    17, batch_acc:    43.75,batch loss: 1.08\n",
      "epoch: 200, batch:    18, batch_acc:    43.75,batch loss: 1.08\n",
      "epoch: 200, batch:    19, batch_acc:    25.00,batch loss: 1.43\n",
      "epoch: 200, batch:    20, batch_acc:    37.50,batch loss: 1.20\n",
      "epoch: 200, batch:    21, batch_acc:    43.75,batch loss: 1.08\n",
      "epoch: 200, batch:    22, batch_acc:    25.00,batch loss: 1.43\n",
      "epoch: 200, batch:    23, batch_acc:    37.50,batch loss: 1.20\n",
      "epoch: 200, batch:    24, batch_acc:    43.75,batch loss: 1.08\n"
     ]
    },
    {
     "name": "stderr",
     "output_type": "stream",
     "text": [
      " 80%|████████████████████████████████████████████████████████████████████████████████████████▌                      | 399/500 [00:04<00:01, 98.47it/s]"
     ]
    },
    {
     "name": "stdout",
     "output_type": "stream",
     "text": [
      "epoch: 400, batch:     1, batch_acc:    43.75,batch loss: 1.11\n",
      "epoch: 400, batch:     2, batch_acc:    12.50,batch loss: 1.72\n",
      "epoch: 400, batch:     3, batch_acc:    37.50,batch loss: 1.23\n",
      "epoch: 400, batch:     4, batch_acc:    31.25,batch loss: 1.35\n",
      "epoch: 400, batch:     5, batch_acc:    18.75,batch loss: 1.60\n",
      "epoch: 400, batch:     6, batch_acc:    31.25,batch loss: 1.35\n",
      "epoch: 400, batch:     7, batch_acc:    31.25,batch loss: 1.35\n",
      "epoch: 400, batch:     8, batch_acc:    25.00,batch loss: 1.47\n",
      "epoch: 400, batch:     9, batch_acc:    37.50,batch loss: 1.23\n",
      "epoch: 400, batch:    10, batch_acc:    50.00,batch loss: 0.98\n",
      "epoch: 400, batch:    11, batch_acc:    31.25,batch loss: 1.35\n",
      "epoch: 400, batch:    12, batch_acc:    31.25,batch loss: 1.35\n",
      "epoch: 400, batch:    13, batch_acc:    31.25,batch loss: 1.35\n",
      "epoch: 400, batch:    14, batch_acc:    25.00,batch loss: 1.47\n",
      "epoch: 400, batch:    15, batch_acc:    31.25,batch loss: 1.35\n",
      "epoch: 400, batch:    16, batch_acc:    31.25,batch loss: 1.35\n",
      "epoch: 400, batch:    17, batch_acc:    43.75,batch loss: 1.11\n",
      "epoch: 400, batch:    18, batch_acc:    43.75,batch loss: 1.11\n",
      "epoch: 400, batch:    19, batch_acc:    25.00,batch loss: 1.47\n",
      "epoch: 400, batch:    20, batch_acc:    37.50,batch loss: 1.23\n",
      "epoch: 400, batch:    21, batch_acc:    43.75,batch loss: 1.11\n",
      "epoch: 400, batch:    22, batch_acc:    25.00,batch loss: 1.47\n",
      "epoch: 400, batch:    23, batch_acc:    37.50,batch loss: 1.23\n",
      "epoch: 400, batch:    24, batch_acc:    43.75,batch loss: 1.11\n"
     ]
    },
    {
     "name": "stderr",
     "output_type": "stream",
     "text": [
      "100%|███████████████████████████████████████████████████████████████████████████████████████████████████████████████| 500/500 [00:05<00:00, 91.73it/s]\n"
     ]
    },
    {
     "data": {
      "image/png": "[encoded data removed]",
      "text/plain": [
       "<Figure size 432x288 with 1 Axes>"
      ]
     },
     "metadata": {
      "needs_background": "light"
     },
     "output_type": "display_data"
    }
   ],
   "source": [
    "layers =[\n",
    "    {'type':'linear','shape':(2,1)},\n",
    "    {'type':'tanh'},\n",
    "    {'type':'linear','shape':(1,1)},\n",
    "    {'type':'tanh'},\n",
    "    {'type':'linear','shape':(1,1)},\n",
    "    {'type':'tanh'}\n",
    "]\n",
    "net = Net(layers)\n",
    "opt = SGD(net.parameters,lr=1e-3)\n",
    "net.train(X,Y,opt)\n"
   ]
  },
  {
   "cell_type": "code",
   "execution_count": 7,
   "metadata": {},
   "outputs": [
    {
     "name": "stderr",
     "output_type": "stream",
     "text": [
      "\r",
      "  0%|                                                                                                                         | 0/500 [00:00<?, ?it/s]"
     ]
    },
    {
     "name": "stdout",
     "output_type": "stream",
     "text": [
      "epoch: 0, batch:     1, batch_acc:    56.25,batch loss: 0.81\n",
      "epoch: 0, batch:     2, batch_acc:    43.75,batch loss: 1.07\n",
      "epoch: 0, batch:     3, batch_acc:    50.00,batch loss: 0.94\n",
      "epoch: 0, batch:     4, batch_acc:    62.50,batch loss: 0.59\n",
      "epoch: 0, batch:     5, batch_acc:    37.50,batch loss: 1.19\n",
      "epoch: 0, batch:     6, batch_acc:    62.50,batch loss: 0.68\n",
      "epoch: 0, batch:     7, batch_acc:    62.50,batch loss: 0.75\n",
      "epoch: 0, batch:     8, batch_acc:    56.25,batch loss: 0.82\n",
      "epoch: 0, batch:     9, batch_acc:    43.75,batch loss: 1.10\n",
      "epoch: 0, batch:    10, batch_acc:    50.00,batch loss: 0.96\n",
      "epoch: 0, batch:    11, batch_acc:    75.00,batch loss: 0.52\n",
      "epoch: 0, batch:    12, batch_acc:    56.25,batch loss: 0.73\n",
      "epoch: 0, batch:    13, batch_acc:    56.25,batch loss: 0.76\n",
      "epoch: 0, batch:    14, batch_acc:    56.25,batch loss: 0.83\n",
      "epoch: 0, batch:    15, batch_acc:    50.00,batch loss: 0.90\n",
      "epoch: 0, batch:    16, batch_acc:    37.50,batch loss: 1.16\n",
      "epoch: 0, batch:    17, batch_acc:    43.75,batch loss: 0.91\n",
      "epoch: 0, batch:    18, batch_acc:    50.00,batch loss: 0.91\n",
      "epoch: 0, batch:    19, batch_acc:    43.75,batch loss: 1.06\n",
      "epoch: 0, batch:    20, batch_acc:    68.75,batch loss: 0.59\n",
      "epoch: 0, batch:    21, batch_acc:    37.50,batch loss: 1.05\n",
      "epoch: 0, batch:    22, batch_acc:    56.25,batch loss: 0.77\n",
      "epoch: 0, batch:    23, batch_acc:    62.50,batch loss: 0.69\n",
      "epoch: 0, batch:    24, batch_acc:    43.75,batch loss: 1.00\n"
     ]
    },
    {
     "name": "stderr",
     "output_type": "stream",
     "text": [
      " 40%|███████████████████████████████████████████▉                                                                   | 198/500 [00:02<00:03, 97.43it/s]"
     ]
    },
    {
     "name": "stdout",
     "output_type": "stream",
     "text": [
      "epoch: 200, batch:     1, batch_acc:    43.75,batch loss: 1.11\n",
      "epoch: 200, batch:     2, batch_acc:    12.50,batch loss: 1.73\n",
      "epoch: 200, batch:     3, batch_acc:    37.50,batch loss: 1.24\n",
      "epoch: 200, batch:     4, batch_acc:    31.25,batch loss: 1.36\n",
      "epoch: 200, batch:     5, batch_acc:    18.75,batch loss: 1.61\n",
      "epoch: 200, batch:     6, batch_acc:    31.25,batch loss: 1.36\n",
      "epoch: 200, batch:     7, batch_acc:    31.25,batch loss: 1.36\n",
      "epoch: 200, batch:     8, batch_acc:    25.00,batch loss: 1.49\n",
      "epoch: 200, batch:     9, batch_acc:    37.50,batch loss: 1.24\n",
      "epoch: 200, batch:    10, batch_acc:    50.00,batch loss: 0.99\n",
      "epoch: 200, batch:    11, batch_acc:    31.25,batch loss: 1.36\n",
      "epoch: 200, batch:    12, batch_acc:    31.25,batch loss: 1.36\n",
      "epoch: 200, batch:    13, batch_acc:    31.25,batch loss: 1.36\n",
      "epoch: 200, batch:    14, batch_acc:    25.00,batch loss: 1.49\n",
      "epoch: 200, batch:    15, batch_acc:    31.25,batch loss: 1.36\n",
      "epoch: 200, batch:    16, batch_acc:    31.25,batch loss: 1.36\n",
      "epoch: 200, batch:    17, batch_acc:    43.75,batch loss: 1.12\n",
      "epoch: 200, batch:    18, batch_acc:    43.75,batch loss: 1.12\n",
      "epoch: 200, batch:    19, batch_acc:    25.00,batch loss: 1.49\n",
      "epoch: 200, batch:    20, batch_acc:    37.50,batch loss: 1.24\n",
      "epoch: 200, batch:    21, batch_acc:    43.75,batch loss: 1.12\n",
      "epoch: 200, batch:    22, batch_acc:    25.00,batch loss: 1.49\n",
      "epoch: 200, batch:    23, batch_acc:    37.50,batch loss: 1.24\n",
      "epoch: 200, batch:    24, batch_acc:    43.75,batch loss: 1.11\n"
     ]
    },
    {
     "name": "stderr",
     "output_type": "stream",
     "text": [
      " 79%|███████████████████████████████████████████████████████████████████████████████████████▉                       | 396/500 [00:04<00:01, 82.18it/s]"
     ]
    },
    {
     "name": "stdout",
     "output_type": "stream",
     "text": [
      "epoch: 400, batch:     1, batch_acc:    43.75,batch loss: 1.12\n",
      "epoch: 400, batch:     2, batch_acc:    12.50,batch loss: 1.74\n",
      "epoch: 400, batch:     3, batch_acc:    37.50,batch loss: 1.25\n",
      "epoch: 400, batch:     4, batch_acc:    31.25,batch loss: 1.37\n",
      "epoch: 400, batch:     5, batch_acc:    18.75,batch loss: 1.62\n",
      "epoch: 400, batch:     6, batch_acc:    31.25,batch loss: 1.37\n",
      "epoch: 400, batch:     7, batch_acc:    31.25,batch loss: 1.37\n",
      "epoch: 400, batch:     8, batch_acc:    25.00,batch loss: 1.49\n",
      "epoch: 400, batch:     9, batch_acc:    37.50,batch loss: 1.25\n",
      "epoch: 400, batch:    10, batch_acc:    50.00,batch loss: 1.00\n",
      "epoch: 400, batch:    11, batch_acc:    31.25,batch loss: 1.37\n",
      "epoch: 400, batch:    12, batch_acc:    31.25,batch loss: 1.37\n",
      "epoch: 400, batch:    13, batch_acc:    31.25,batch loss: 1.37\n",
      "epoch: 400, batch:    14, batch_acc:    25.00,batch loss: 1.49\n",
      "epoch: 400, batch:    15, batch_acc:    31.25,batch loss: 1.37\n",
      "epoch: 400, batch:    16, batch_acc:    31.25,batch loss: 1.37\n",
      "epoch: 400, batch:    17, batch_acc:    43.75,batch loss: 1.12\n",
      "epoch: 400, batch:    18, batch_acc:    43.75,batch loss: 1.12\n",
      "epoch: 400, batch:    19, batch_acc:    25.00,batch loss: 1.49\n",
      "epoch: 400, batch:    20, batch_acc:    37.50,batch loss: 1.25\n",
      "epoch: 400, batch:    21, batch_acc:    43.75,batch loss: 1.12\n",
      "epoch: 400, batch:    22, batch_acc:    25.00,batch loss: 1.49\n",
      "epoch: 400, batch:    23, batch_acc:    37.50,batch loss: 1.25\n",
      "epoch: 400, batch:    24, batch_acc:    43.75,batch loss: 1.12\n"
     ]
    },
    {
     "name": "stderr",
     "output_type": "stream",
     "text": [
      "100%|███████████████████████████████████████████████████████████████████████████████████████████████████████████████| 500/500 [00:05<00:00, 86.55it/s]\n"
     ]
    },
    {
     "data": {
      "image/png": "[encoded data removed]",
      "text/plain": [
       "<Figure size 432x288 with 1 Axes>"
      ]
     },
     "metadata": {
      "needs_background": "light"
     },
     "output_type": "display_data"
    }
   ],
   "source": [
    "layers =[\n",
    "    {'type':'linear','shape':(2,8)},\n",
    "    {'type':'tanh'},\n",
    "    {'type':'linear','shape':(8,8)},\n",
    "    {'type':'tanh'},\n",
    "    {'type':'linear','shape':(8,1)},\n",
    "    {'type':'tanh'}\n",
    "]\n",
    "net = Net(layers)\n",
    "opt = SGD(net.parameters,lr=1e-3)\n",
    "net.train(X,Y,opt)\n"
   ]
  },
  {
   "cell_type": "code",
   "execution_count": 8,
   "metadata": {},
   "outputs": [
    {
     "name": "stderr",
     "output_type": "stream",
     "text": [
      "\r",
      "  0%|                                                                                                                         | 0/500 [00:00<?, ?it/s]"
     ]
    },
    {
     "name": "stdout",
     "output_type": "stream",
     "text": [
      "epoch: 0, batch:     1, batch_acc:    50.00,batch loss: 0.87\n",
      "epoch: 0, batch:     2, batch_acc:    56.25,batch loss: 0.65\n",
      "epoch: 0, batch:     3, batch_acc:    56.25,batch loss: 0.60\n",
      "epoch: 0, batch:     4, batch_acc:    37.50,batch loss: 1.01\n",
      "epoch: 0, batch:     5, batch_acc:    62.50,batch loss: 0.49\n",
      "epoch: 0, batch:     6, batch_acc:    43.75,batch loss: 0.83\n",
      "epoch: 0, batch:     7, batch_acc:    43.75,batch loss: 0.81\n",
      "epoch: 0, batch:     8, batch_acc:    43.75,batch loss: 0.96\n",
      "epoch: 0, batch:     9, batch_acc:    56.25,batch loss: 0.63\n",
      "epoch: 0, batch:    10, batch_acc:    50.00,batch loss: 0.81\n",
      "epoch: 0, batch:    11, batch_acc:    31.25,batch loss: 1.06\n",
      "epoch: 0, batch:    12, batch_acc:    37.50,batch loss: 0.99\n",
      "epoch: 0, batch:    13, batch_acc:    43.75,batch loss: 0.88\n",
      "epoch: 0, batch:    14, batch_acc:    43.75,batch loss: 0.90\n",
      "epoch: 0, batch:    15, batch_acc:    43.75,batch loss: 0.93\n",
      "epoch: 0, batch:    16, batch_acc:    68.75,batch loss: 0.48\n",
      "epoch: 0, batch:    17, batch_acc:    50.00,batch loss: 0.74\n",
      "epoch: 0, batch:    18, batch_acc:    50.00,batch loss: 0.70\n",
      "epoch: 0, batch:    19, batch_acc:    62.50,batch loss: 0.56\n",
      "epoch: 0, batch:    20, batch_acc:    31.25,batch loss: 1.07\n",
      "epoch: 0, batch:    21, batch_acc:    56.25,batch loss: 0.66\n",
      "epoch: 0, batch:    22, batch_acc:    37.50,batch loss: 0.99\n",
      "epoch: 0, batch:    23, batch_acc:    43.75,batch loss: 0.85\n",
      "epoch: 0, batch:    24, batch_acc:    56.25,batch loss: 0.57\n"
     ]
    },
    {
     "name": "stderr",
     "output_type": "stream",
     "text": [
      " 39%|███████████████████████████████████████████▎                                                                  | 197/500 [00:01<00:02, 110.53it/s]"
     ]
    },
    {
     "name": "stdout",
     "output_type": "stream",
     "text": [
      "epoch: 200, batch:     1, batch_acc:    43.75,batch loss: 1.12\n",
      "epoch: 200, batch:     2, batch_acc:    12.50,batch loss: 1.75\n",
      "epoch: 200, batch:     3, batch_acc:    37.50,batch loss: 1.25\n",
      "epoch: 200, batch:     4, batch_acc:    31.25,batch loss: 1.37\n",
      "epoch: 200, batch:     5, batch_acc:    18.75,batch loss: 1.62\n",
      "epoch: 200, batch:     6, batch_acc:    31.25,batch loss: 1.37\n",
      "epoch: 200, batch:     7, batch_acc:    31.25,batch loss: 1.37\n",
      "epoch: 200, batch:     8, batch_acc:    25.00,batch loss: 1.50\n",
      "epoch: 200, batch:     9, batch_acc:    37.50,batch loss: 1.25\n",
      "epoch: 200, batch:    10, batch_acc:    50.00,batch loss: 1.00\n",
      "epoch: 200, batch:    11, batch_acc:    31.25,batch loss: 1.37\n",
      "epoch: 200, batch:    12, batch_acc:    31.25,batch loss: 1.37\n",
      "epoch: 200, batch:    13, batch_acc:    31.25,batch loss: 1.37\n",
      "epoch: 200, batch:    14, batch_acc:    25.00,batch loss: 1.50\n",
      "epoch: 200, batch:    15, batch_acc:    31.25,batch loss: 1.37\n",
      "epoch: 200, batch:    16, batch_acc:    31.25,batch loss: 1.37\n",
      "epoch: 200, batch:    17, batch_acc:    43.75,batch loss: 1.12\n",
      "epoch: 200, batch:    18, batch_acc:    43.75,batch loss: 1.12\n",
      "epoch: 200, batch:    19, batch_acc:    25.00,batch loss: 1.50\n",
      "epoch: 200, batch:    20, batch_acc:    37.50,batch loss: 1.25\n",
      "epoch: 200, batch:    21, batch_acc:    43.75,batch loss: 1.12\n",
      "epoch: 200, batch:    22, batch_acc:    25.00,batch loss: 1.50\n",
      "epoch: 200, batch:    23, batch_acc:    37.50,batch loss: 1.25\n",
      "epoch: 200, batch:    24, batch_acc:    43.75,batch loss: 1.12\n"
     ]
    },
    {
     "name": "stderr",
     "output_type": "stream",
     "text": [
      " 79%|███████████████████████████████████████████████████████████████████████████████████████▉                       | 396/500 [00:04<00:01, 80.21it/s]"
     ]
    },
    {
     "name": "stdout",
     "output_type": "stream",
     "text": [
      "epoch: 400, batch:     1, batch_acc:    43.75,batch loss: 1.12\n",
      "epoch: 400, batch:     2, batch_acc:    12.50,batch loss: 1.75\n",
      "epoch: 400, batch:     3, batch_acc:    37.50,batch loss: 1.25\n",
      "epoch: 400, batch:     4, batch_acc:    31.25,batch loss: 1.37\n",
      "epoch: 400, batch:     5, batch_acc:    18.75,batch loss: 1.62\n",
      "epoch: 400, batch:     6, batch_acc:    31.25,batch loss: 1.37\n",
      "epoch: 400, batch:     7, batch_acc:    31.25,batch loss: 1.37\n",
      "epoch: 400, batch:     8, batch_acc:    25.00,batch loss: 1.50\n",
      "epoch: 400, batch:     9, batch_acc:    37.50,batch loss: 1.25\n",
      "epoch: 400, batch:    10, batch_acc:    50.00,batch loss: 1.00\n",
      "epoch: 400, batch:    11, batch_acc:    31.25,batch loss: 1.37\n",
      "epoch: 400, batch:    12, batch_acc:    31.25,batch loss: 1.37\n",
      "epoch: 400, batch:    13, batch_acc:    31.25,batch loss: 1.37\n",
      "epoch: 400, batch:    14, batch_acc:    25.00,batch loss: 1.50\n",
      "epoch: 400, batch:    15, batch_acc:    31.25,batch loss: 1.37\n",
      "epoch: 400, batch:    16, batch_acc:    31.25,batch loss: 1.37\n",
      "epoch: 400, batch:    17, batch_acc:    43.75,batch loss: 1.12\n",
      "epoch: 400, batch:    18, batch_acc:    43.75,batch loss: 1.12\n",
      "epoch: 400, batch:    19, batch_acc:    25.00,batch loss: 1.50\n",
      "epoch: 400, batch:    20, batch_acc:    37.50,batch loss: 1.25\n",
      "epoch: 400, batch:    21, batch_acc:    43.75,batch loss: 1.12\n",
      "epoch: 400, batch:    22, batch_acc:    25.00,batch loss: 1.50\n",
      "epoch: 400, batch:    23, batch_acc:    37.50,batch loss: 1.25\n",
      "epoch: 400, batch:    24, batch_acc:    43.75,batch loss: 1.12\n"
     ]
    },
    {
     "name": "stderr",
     "output_type": "stream",
     "text": [
      "100%|███████████████████████████████████████████████████████████████████████████████████████████████████████████████| 500/500 [00:05<00:00, 84.74it/s]\n"
     ]
    },
    {
     "data": {
      "image/png": "[encoded data removed]",
      "text/plain": [
       "<Figure size 432x288 with 1 Axes>"
      ]
     },
     "metadata": {
      "needs_background": "light"
     },
     "output_type": "display_data"
    }
   ],
   "source": [
    "layers =[\n",
    "    {'type':'linear','shape':(2,16)},\n",
    "    {'type':'tanh'},\n",
    "    {'type':'linear','shape':(16,16)},\n",
    "    {'type':'tanh'},\n",
    "    {'type':'linear','shape':(16,1)},\n",
    "    {'type':'tanh'}\n",
    "]\n",
    "net = Net(layers)\n",
    "opt = SGD(net.parameters,lr=1e-3)\n",
    "net.train(X,Y,opt)\n"
   ]
  },
  {
   "cell_type": "markdown",
   "metadata": {},
   "source": [
    "2.How do the learning/error curves for the training and the validation sets compare? Are they similar? In what cases do you observe more dissimilarity?"
   ]
  },
  {
   "cell_type": "code",
   "execution_count": 9,
   "metadata": {},
   "outputs": [],
   "source": [
    "def generate_data_by_class():\n",
    "    N=128\n",
    "    mA=(1, 0.3) \n",
    "    mB=(0, 0.1) \n",
    "    sigmaA=0.2 \n",
    "    sigmaB=0.3\n",
    "    np.random.seed(100)\n",
    "    cov = np.eye(2)\n",
    "    classA1 = np.random.multivariate_normal(mA,sigmaA*sigmaA*cov,N//2)\n",
    "    classA2 = np.random.multivariate_normal([-1,0.3],sigmaA*sigmaA*cov,N//2)\n",
    "    A = np.concatenate((classA1,classA2))\n",
    "    B = np.random.multivariate_normal(mB,sigmaB*sigmaB*cov,N)\n",
    "    np.random.shuffle(A)\n",
    "    np.random.shuffle(B)\n",
    "    return A,B\n",
    "\n",
    "\n",
    "def divide_data(option,A,B):\n",
    "    N=128\n",
    "    #random 25% from each class\n",
    "    if option == 1:\n",
    "        X_train = np.concatenate((A[:N*3//4],B[:N*3//4]))\n",
    "        Y_train = np.concatenate((np.ones(N*3//4), -np.ones(N*3//4)))\n",
    "        permute = np.random.permutation(X_train.shape[0])\n",
    "        np.random.shuffle(permute)\n",
    "        X_train = X_train[permute,:]\n",
    "        Y_train = Y_train[permute]\n",
    "\n",
    "        X_val = np.concatenate((A[N*3//4:],B[N*3//4:]))\n",
    "        Y_val =  np.concatenate((np.ones(N//4), -np.ones(N//4)))\n",
    "        permute = np.random.permutation(X_val.shape[0])\n",
    "        np.random.shuffle(permute)\n",
    "        X_val = X_val[permute,:]\n",
    "        Y_val = Y_val[permute]\n",
    "\n",
    "    #random 50% from classA\n",
    "    if option == 2:\n",
    "        X_train = np.concatenate((A[:N//2],B))\n",
    "        Y_train = np.concatenate((np.ones(N//2), -np.ones(N)))\n",
    "        permute = np.random.permutation(X_train.shape[0])\n",
    "        np.random.shuffle(permute)\n",
    "        X_train = X_train[permute,:]\n",
    "        Y_train = Y_train[permute]\n",
    "\n",
    "        X_val = A[N//2:]\n",
    "        Y_val = -np.ones(N//2)\n",
    "        permute = np.random.permutation(X_val.shape[0])\n",
    "        np.random.shuffle(permute)\n",
    "        X_val = X_val[permute,:]\n",
    "        Y_val = Y_val[permute]\n",
    "\n",
    "    #random 50% from classB\n",
    "    if option == 3:\n",
    "        X_train = np.concatenate((A,B[:N//2]))\n",
    "        Y_train = np.concatenate((np.ones(N), -np.ones(N//2)))\n",
    "        permute = np.random.permutation(X_train.shape[0])\n",
    "        np.random.shuffle(permute)\n",
    "        X_train = X_train[permute,:]\n",
    "        Y_train = Y_train[permute]\n",
    "        \n",
    "        X_val = B[N//2:]\n",
    "        Y_val = -np.ones(N//2)\n",
    "        permute = np.random.permutation(X_val.shape[0])\n",
    "        np.random.shuffle(permute)\n",
    "        X_val = X_val[permute,:]\n",
    "        Y_val = Y_val[permute]\n",
    "    #20% from a subset of classA for which classA(1,:)<0 and 80% from a subset of classA for which classA(1,:)>0\n",
    "    if option == 4:\n",
    "        AL = np.where(A[:,0]<0)[0]\n",
    "        AR = np.where(A[:,0]>0)[0]\n",
    "        AL = AL[:len(AL)//5]\n",
    "        AR = AR[:len(AR)*4//5]\n",
    "        A_val_i = np.concatenate((AL,AR))\n",
    "        A_train =np.array([ A[i,:]for i in range(A.shape[0]) if i not in A_val_i])\n",
    "        A_val = A[A_val_i,:]\n",
    "        X_train = np.concatenate((A_train,B))\n",
    "        Y_train = np.concatenate((np.ones(A_train.shape[0]), -np.ones(B.shape[0])))\n",
    "        permute = np.random.permutation(X_train.shape[0])\n",
    "        np.random.shuffle(permute)\n",
    "        X_train = X_train[permute,:]\n",
    "        Y_train = Y_train[permute]\n",
    "\n",
    "        X_val = A_val\n",
    "        Y_val = np.ones(A_val.shape[0])\n",
    "        permute = np.random.permutation(X_val.shape[0])\n",
    "        np.random.shuffle(permute)\n",
    "        X_val = X_val[permute,:]\n",
    "        Y_val = Y_val[permute]\n",
    "\n",
    "    return (X_train,Y_train),(X_val,Y_val)\n",
    "\n"
   ]
  },
  {
   "cell_type": "code",
   "execution_count": 10,
   "metadata": {},
   "outputs": [
    {
     "name": "stderr",
     "output_type": "stream",
     "text": [
      "\r",
      "  0%|                                                                                                                         | 0/500 [00:00<?, ?it/s]"
     ]
    },
    {
     "name": "stdout",
     "output_type": "stream",
     "text": [
      "epoch: 0, batch:     1, batch_acc:    37.50,batch loss: 0.73\n",
      "epoch: 0, batch:     2, batch_acc:    56.25,batch loss: 0.56\n",
      "epoch: 0, batch:     3, batch_acc:    31.25,batch loss: 0.92\n",
      "epoch: 0, batch:     4, batch_acc:    68.75,batch loss: 0.43\n",
      "epoch: 0, batch:     5, batch_acc:    37.50,batch loss: 0.74\n",
      "epoch: 0, batch:     6, batch_acc:    37.50,batch loss: 0.81\n",
      "epoch: 0, batch:     7, batch_acc:    56.25,batch loss: 0.61\n",
      "epoch: 0, batch:     8, batch_acc:    50.00,batch loss: 0.65\n",
      "epoch: 0, batch:     9, batch_acc:    43.75,batch loss: 0.75\n",
      "epoch: 0, batch:    10, batch_acc:    68.75,batch loss: 0.47\n",
      "epoch: 0, batch:    11, batch_acc:    56.25,batch loss: 0.56\n",
      "epoch: 0, batch:    12, batch_acc:    25.00,batch loss: 0.72\n"
     ]
    },
    {
     "name": "stderr",
     "output_type": "stream",
     "text": [
      " 37%|████████████████████████████████████████▉                                                                     | 186/500 [00:01<00:02, 150.47it/s]"
     ]
    },
    {
     "name": "stdout",
     "output_type": "stream",
     "text": [
      "epoch: 200, batch:     1, batch_acc:    56.25,batch loss: 0.87\n",
      "epoch: 200, batch:     2, batch_acc:    50.00,batch loss: 1.00\n",
      "epoch: 200, batch:     3, batch_acc:    37.50,batch loss: 1.25\n",
      "epoch: 200, batch:     4, batch_acc:    56.25,batch loss: 0.87\n",
      "epoch: 200, batch:     5, batch_acc:    50.00,batch loss: 1.00\n",
      "epoch: 200, batch:     6, batch_acc:    50.00,batch loss: 1.00\n",
      "epoch: 200, batch:     7, batch_acc:    50.00,batch loss: 1.00\n",
      "epoch: 200, batch:     8, batch_acc:    56.25,batch loss: 0.87\n",
      "epoch: 200, batch:     9, batch_acc:    56.25,batch loss: 0.87\n",
      "epoch: 200, batch:    10, batch_acc:    37.50,batch loss: 1.25\n",
      "epoch: 200, batch:    11, batch_acc:    62.50,batch loss: 0.75\n",
      "epoch: 200, batch:    12, batch_acc:    37.50,batch loss: 1.25\n"
     ]
    },
    {
     "name": "stderr",
     "output_type": "stream",
     "text": [
      " 79%|██████████████████████████████████████████████████████████████████████████████████████▍                       | 393/500 [00:02<00:00, 159.97it/s]"
     ]
    },
    {
     "name": "stdout",
     "output_type": "stream",
     "text": [
      "epoch: 400, batch:     1, batch_acc:    56.25,batch loss: 0.87\n",
      "epoch: 400, batch:     2, batch_acc:    50.00,batch loss: 1.00\n",
      "epoch: 400, batch:     3, batch_acc:    37.50,batch loss: 1.25\n",
      "epoch: 400, batch:     4, batch_acc:    56.25,batch loss: 0.87\n",
      "epoch: 400, batch:     5, batch_acc:    50.00,batch loss: 1.00\n",
      "epoch: 400, batch:     6, batch_acc:    50.00,batch loss: 1.00\n",
      "epoch: 400, batch:     7, batch_acc:    50.00,batch loss: 1.00\n",
      "epoch: 400, batch:     8, batch_acc:    56.25,batch loss: 0.87\n",
      "epoch: 400, batch:     9, batch_acc:    56.25,batch loss: 0.87\n",
      "epoch: 400, batch:    10, batch_acc:    37.50,batch loss: 1.25\n",
      "epoch: 400, batch:    11, batch_acc:    62.50,batch loss: 0.75\n",
      "epoch: 400, batch:    12, batch_acc:    37.50,batch loss: 1.25\n"
     ]
    },
    {
     "name": "stderr",
     "output_type": "stream",
     "text": [
      "100%|██████████████████████████████████████████████████████████████████████████████████████████████████████████████| 500/500 [00:03<00:00, 150.94it/s]\n"
     ]
    },
    {
     "data": {
      "image/png": "[encoded data removed]",
      "text/plain": [
       "<Figure size 432x288 with 1 Axes>"
      ]
     },
     "metadata": {
      "needs_background": "light"
     },
     "output_type": "display_data"
    }
   ],
   "source": [
    "A,B = generate_data_by_class()\n",
    "(X_train,Y_train),(X_val,Y_val) = divide_data(1,A,B)\n",
    "layers =[\n",
    "    {'type':'linear','shape':(2,16)},\n",
    "    {'type':'tanh'},\n",
    "    {'type':'linear','shape':(16,16)},\n",
    "    {'type':'tanh'},\n",
    "    {'type':'linear','shape':(16,1)},\n",
    "    {'type':'tanh'}\n",
    "]\n",
    "net = Net(layers)\n",
    "opt = SGD(net.parameters,lr=1e-3)\n",
    "net.train(X_train,Y_train,opt,val=(X_val,Y_val))"
   ]
  },
  {
   "cell_type": "markdown",
   "metadata": {},
   "source": [
    "3.How do these curves and the network performance depend on the size of the hidden layer in various training/validation data configurations (the aforementioned subsampling options)"
   ]
  },
  {
   "cell_type": "code",
   "execution_count": null,
   "metadata": {},
   "outputs": [
    {
     "name": "stdout",
     "output_type": "stream",
     "text": [
      "random 25% from each class \n",
      "layer size 1\n"
     ]
    },
    {
     "name": "stderr",
     "output_type": "stream",
     "text": [
      "\r",
      "  0%|                                                                                                                         | 0/500 [00:00<?, ?it/s]"
     ]
    },
    {
     "name": "stdout",
     "output_type": "stream",
     "text": [
      "epoch: 0, batch:     1, batch_acc:    50.00,batch loss: 0.59\n",
      "epoch: 0, batch:     2, batch_acc:    68.75,batch loss: 0.42\n",
      "epoch: 0, batch:     3, batch_acc:    56.25,batch loss: 0.58\n",
      "epoch: 0, batch:     4, batch_acc:    50.00,batch loss: 0.58\n",
      "epoch: 0, batch:     5, batch_acc:    56.25,batch loss: 0.51\n",
      "epoch: 0, batch:     6, batch_acc:    68.75,batch loss: 0.52\n",
      "epoch: 0, batch:     7, batch_acc:    43.75,batch loss: 0.60\n",
      "epoch: 0, batch:     8, batch_acc:    56.25,batch loss: 0.50\n",
      "epoch: 0, batch:     9, batch_acc:    50.00,batch loss: 0.56\n",
      "epoch: 0, batch:    10, batch_acc:    68.75,batch loss: 0.48\n",
      "epoch: 0, batch:    11, batch_acc:    56.25,batch loss: 0.55\n",
      "epoch: 0, batch:    12, batch_acc:    37.50,batch loss: 0.67\n"
     ]
    },
    {
     "name": "stderr",
     "output_type": "stream",
     "text": [
      " 38%|██████████████████████████████████████████                                                                    | 191/500 [00:01<00:01, 191.23it/s]"
     ]
    },
    {
     "name": "stdout",
     "output_type": "stream",
     "text": [
      "epoch: 200, batch:     1, batch_acc:    43.75,batch loss: 1.07\n",
      "epoch: 200, batch:     2, batch_acc:    43.75,batch loss: 1.07\n",
      "epoch: 200, batch:     3, batch_acc:    37.50,batch loss: 1.19\n",
      "epoch: 200, batch:     4, batch_acc:    50.00,batch loss: 0.95\n",
      "epoch: 200, batch:     5, batch_acc:    68.75,batch loss: 0.59\n",
      "epoch: 200, batch:     6, batch_acc:    43.75,batch loss: 1.07\n",
      "epoch: 200, batch:     7, batch_acc:    56.25,batch loss: 0.83\n",
      "epoch: 200, batch:     8, batch_acc:    37.50,batch loss: 1.19\n",
      "epoch: 200, batch:     9, batch_acc:    68.75,batch loss: 0.59\n",
      "epoch: 200, batch:    10, batch_acc:    75.00,batch loss: 0.48\n",
      "epoch: 200, batch:    11, batch_acc:    37.50,batch loss: 1.19\n",
      "epoch: 200, batch:    12, batch_acc:    37.50,batch loss: 1.19\n"
     ]
    },
    {
     "name": "stderr",
     "output_type": "stream",
     "text": [
      " 70%|█████████████████████████████████████████████████████████████████████████████▏                                | 351/500 [00:01<00:00, 194.21it/s]"
     ]
    }
   ],
   "source": [
    "node = [1,2,4,6,8,10]\n",
    "option = [1,2,3,4]\n",
    "dic = ['random 25% from each class','• random 50% from classA' , '• random 50% from classB',\n",
    "'• 20% from a subset of classA for which classA(1,:)<0 and 80% from a subset of classA for which classA(1,:)>0']\n",
    "for i in option:\n",
    "    for j in node:\n",
    "        (X_train,Y_train),(X_val,Y_val) = divide_data(i,A,B)\n",
    "        layers =[\n",
    "            {'type':'linear','shape':(2,j)},\n",
    "            {'type':'tanh'},\n",
    "            {'type':'linear','shape':(j,j)},\n",
    "            {'type':'tanh'},\n",
    "            {'type':'linear','shape':(j,1)},\n",
    "            {'type':'tanh'}\n",
    "        ]\n",
    "        print(dic[i-1],\"\\nlayer size %d\"%j)\n",
    "        net = Net(layers)\n",
    "        opt = SGD(net.parameters,lr=1e-3)\n",
    "        net.train(X_train,Y_train,opt,val=(X_val,Y_val))"
   ]
  },
  {
   "cell_type": "markdown",
   "metadata": {},
   "source": [
    "4.Is there any difference between a batch and sequential learning approach in terms of the validation performance?"
   ]
  },
  {
   "cell_type": "code",
   "execution_count": null,
   "metadata": {},
   "outputs": [],
   "source": [
    "(X_train,Y_train),(X_val,Y_val) = divide_data(1,A,B)\n",
    "print(\"sequential\")\n",
    "layers =[\n",
    "    {'type':'linear','shape':(2,6)},\n",
    "    {'type':'tanh'},\n",
    "    {'type':'linear','shape':(6,6)},\n",
    "    {'type':'tanh'},\n",
    "    {'type':'linear','shape':(6,1)},\n",
    "    {'type':'tanh'}\n",
    "]\n",
    "net = Net(layers)\n",
    "opt = SGD(net.parameters,lr=1e-3)\n",
    "net.train(X_train,Y_train,opt,val=(X_val,Y_val),batch_size=1)\n",
    "print(\"batch\")\n",
    "net = Net(layers)\n",
    "opt = SGD(net.parameters,lr=1e-3)\n",
    "net.train(X_train,Y_train,opt,val=(X_val,Y_val))\n",
    "\n",
    "\n"
   ]
  },
  {
   "cell_type": "markdown",
   "metadata": {},
   "source": [
    "\n",
    "5.Make an attempt at approximating the resulting decision boundary, i.e. where the network output is 0 (between the target labels of -1 and 1 for two classes, respectively)."
   ]
  },
  {
   "cell_type": "code",
   "execution_count": null,
   "metadata": {},
   "outputs": [],
   "source": [
    "from mlxtend.plotting import plot_decision_regions\n",
    "X,Y = generate_data()\n",
    "for i, it in enumerate(X):\n",
    "    if Y[i] == -1:\n",
    "        plt.plot(X[i][0], X[i][1], 'r.')\n",
    "    else:\n",
    "        plt.plot(X[i][0], X[i][1], 'b.')\n",
    "plt.show()\n",
    "layers =[\n",
    "    {'type':'linear','shape':(2,16)},\n",
    "    {'type':'tanh'},\n",
    "    {'type':'linear','shape':(16,16)},\n",
    "    {'type':'tanh'},\n",
    "    {'type':'linear','shape':(16,1)},\n",
    "    {'type':'tanh'}\n",
    "]\n",
    "net = Net(layers)\n",
    "opt = SGD(net.parameters,lr=1e-3)\n",
    "net.train(X,Y,opt)\n",
    "for i, it in enumerate(X):\n",
    "    if Y[i] == -1:\n",
    "        plt.plot(X[i][0], X[i][1], 'r.')\n",
    "    else:\n",
    "        plt.plot(X[i][0], X[i][1], 'b.')\n",
    "xgrid = np.linspace(-2, 2, 100)\n",
    "ygrid = np.linspace(-2, 2, 100)\n",
    "X, Y = np.meshgrid(xgrid, ygrid)\n",
    "Z = np.array([[np.sign(net.predict(np.array([x, y]))) for x in xgrid] for y in ygrid]).reshape(100,100)\n",
    "plt.contour(X, Y, Z, levels=(-1, 0, 1), colors=('red', 'black', 'blue'), linewidths=(1, 1, 1))\n",
    "plt.show()"
   ]
  },
  {
   "cell_type": "markdown",
   "metadata": {},
   "source": [
    "##The encoder problem"
   ]
  },
  {
   "cell_type": "code",
   "execution_count": null,
   "metadata": {},
   "outputs": [],
   "source": [
    "X = np.zeros((8,8))-1+np.identity(8)*2\n",
    "Y = X"
   ]
  },
  {
   "cell_type": "code",
   "execution_count": null,
   "metadata": {},
   "outputs": [],
   "source": [
    "layers =[\n",
    "    {'type':'linear','shape':(8,3)},\n",
    "    {'type':'tanh'},\n",
    "    {'type':'linear','shape':(3,8)},\n",
    "    {'type':'tanh'}\n",
    "]\n",
    "net = Net(layers)\n",
    "opt = SGD(net.parameters,lr=1e-3)\n",
    "net.train(X,Y,opt,batch_size=1)\n"
   ]
  },
  {
   "cell_type": "code",
   "execution_count": null,
   "metadata": {},
   "outputs": [],
   "source": [
    "r=net.layers[0].forward(X)\n",
    "r=net.layers[1].forward(r)\n",
    "print(r)\n",
    "print(\"Weight\")\n",
    "print(net.layers[0].W.data)"
   ]
  },
  {
   "cell_type": "code",
   "execution_count": null,
   "metadata": {},
   "outputs": [],
   "source": [
    "layers =[\n",
    "    {'type':'linear','shape':(8,2)},\n",
    "    {'type':'tanh'},\n",
    "    {'type':'linear','shape':(2,8)},\n",
    "    {'type':'tanh'}\n",
    "]\n",
    "net = Net(layers)\n",
    "opt = SGD(net.parameters,lr=1e-3)\n",
    "net.train(X,Y,opt,batch_size=1)\n"
   ]
  },
  {
   "cell_type": "markdown",
   "metadata": {},
   "source": []
  }
 ],
 "metadata": {
  "kernelspec": {
   "display_name": "Python 3",
   "language": "python",
   "name": "python3"
  },
  "language_info": {
   "codemirror_mode": {
    "name": "ipython",
    "version": 3
   },
   "file_extension": ".py",
   "mimetype": "text/x-python",
   "name": "python",
   "nbconvert_exporter": "python",
   "pygments_lexer": "ipython3",
   "version": "3.6.7-candidate"
  },
  "pycharm": {
   "stem_cell": {
    "cell_type": "raw",
    "metadata": {
     "collapsed": false
    },
    "source": []
   }
  }
 },
 "nbformat": 4,
 "nbformat_minor": 1
}